{
 "cells": [
  {
   "cell_type": "markdown",
   "metadata": {},
   "source": [
    "# Taxi Fare Prediction"
   ]
  },
  {
   "cell_type": "markdown",
   "metadata": {},
   "source": [
    "Hello everybody, today we're gonna try some prediction models on the Kaggle **\"New York City Taxi Fare Prediction\"**.  \n",
    "In this challenge, we'll predict the taxi's fare for each ride.  \n",
    "The dataset provided in the [Kaggel site](https://www.kaggle.com/c/new-york-city-taxi-fare-prediction/overview)"
   ]
  },
  {
   "cell_type": "markdown",
   "metadata": {},
   "source": [
    "# 0. Imports and Data Loading"
   ]
  },
  {
   "cell_type": "code",
   "execution_count": 1,
   "metadata": {
    "ExecuteTime": {
     "end_time": "2020-09-14T06:17:01.763465Z",
     "start_time": "2020-09-14T06:17:00.841436Z"
    }
   },
   "outputs": [],
   "source": [
    "import numpy as np\n",
    "import pandas as pd\n",
    "import seaborn as sns\n",
    "import matplotlib.pyplot as plt\n",
    "\n",
    "%matplotlib inline\n",
    "sns.set(style='darkgrid')"
   ]
  },
  {
   "cell_type": "markdown",
   "metadata": {},
   "source": [
    "The train's size is 5GB, so we may subsample the CSV file.  \n",
    "I did it with the [*subsample*](https://github.com/paulgb/subsample) package, to randomly take 250K entries (out of 5.5M)."
   ]
  },
  {
   "cell_type": "code",
   "execution_count": 212,
   "metadata": {
    "ExecuteTime": {
     "end_time": "2020-09-16T07:41:48.540901Z",
     "start_time": "2020-09-16T07:41:48.080142Z"
    },
    "scrolled": true
   },
   "outputs": [
    {
     "name": "stdout",
     "output_type": "stream",
     "text": [
      "<class 'pandas.core.frame.DataFrame'>\n",
      "RangeIndex: 250000 entries, 0 to 249999\n",
      "Data columns (total 8 columns):\n",
      " #   Column             Non-Null Count   Dtype  \n",
      "---  ------             --------------   -----  \n",
      " 0   key                250000 non-null  object \n",
      " 1   fare_amount        250000 non-null  float64\n",
      " 2   pickup_datetime    250000 non-null  object \n",
      " 3   pickup_longitude   250000 non-null  float64\n",
      " 4   pickup_latitude    250000 non-null  float64\n",
      " 5   dropoff_longitude  249999 non-null  float64\n",
      " 6   dropoff_latitude   249999 non-null  float64\n",
      " 7   passenger_count    250000 non-null  int64  \n",
      "dtypes: float64(5), int64(1), object(2)\n",
      "memory usage: 15.3+ MB\n"
     ]
    },
    {
     "data": {
      "text/html": [
       "<div>\n",
       "<style scoped>\n",
       "    .dataframe tbody tr th:only-of-type {\n",
       "        vertical-align: middle;\n",
       "    }\n",
       "\n",
       "    .dataframe tbody tr th {\n",
       "        vertical-align: top;\n",
       "    }\n",
       "\n",
       "    .dataframe thead th {\n",
       "        text-align: right;\n",
       "    }\n",
       "</style>\n",
       "<table border=\"1\" class=\"dataframe\">\n",
       "  <thead>\n",
       "    <tr style=\"text-align: right;\">\n",
       "      <th></th>\n",
       "      <th>key</th>\n",
       "      <th>fare_amount</th>\n",
       "      <th>pickup_datetime</th>\n",
       "      <th>pickup_longitude</th>\n",
       "      <th>pickup_latitude</th>\n",
       "      <th>dropoff_longitude</th>\n",
       "      <th>dropoff_latitude</th>\n",
       "      <th>passenger_count</th>\n",
       "    </tr>\n",
       "  </thead>\n",
       "  <tbody>\n",
       "    <tr>\n",
       "      <th>0</th>\n",
       "      <td>2014-05-19 22:49:39.0000003</td>\n",
       "      <td>20.5</td>\n",
       "      <td>2014-05-19 22:49:39 UTC</td>\n",
       "      <td>-73.985474</td>\n",
       "      <td>40.738516</td>\n",
       "      <td>-73.974870</td>\n",
       "      <td>40.793099</td>\n",
       "      <td>4</td>\n",
       "    </tr>\n",
       "    <tr>\n",
       "      <th>1</th>\n",
       "      <td>2014-05-13 08:18:00.000000163</td>\n",
       "      <td>30.0</td>\n",
       "      <td>2014-05-13 08:18:00 UTC</td>\n",
       "      <td>-73.970737</td>\n",
       "      <td>40.758497</td>\n",
       "      <td>-73.937903</td>\n",
       "      <td>40.848190</td>\n",
       "      <td>2</td>\n",
       "    </tr>\n",
       "    <tr>\n",
       "      <th>2</th>\n",
       "      <td>2011-06-30 15:50:59.0000002</td>\n",
       "      <td>24.1</td>\n",
       "      <td>2011-06-30 15:50:59 UTC</td>\n",
       "      <td>-73.967693</td>\n",
       "      <td>40.756341</td>\n",
       "      <td>-73.975364</td>\n",
       "      <td>40.675990</td>\n",
       "      <td>1</td>\n",
       "    </tr>\n",
       "    <tr>\n",
       "      <th>3</th>\n",
       "      <td>2011-02-07 16:00:00.00000066</td>\n",
       "      <td>9.3</td>\n",
       "      <td>2011-02-07 16:00:00 UTC</td>\n",
       "      <td>-73.989772</td>\n",
       "      <td>40.734185</td>\n",
       "      <td>-73.997172</td>\n",
       "      <td>40.756250</td>\n",
       "      <td>3</td>\n",
       "    </tr>\n",
       "    <tr>\n",
       "      <th>4</th>\n",
       "      <td>2011-05-07 01:22:00.00000081</td>\n",
       "      <td>9.3</td>\n",
       "      <td>2011-05-07 01:22:00 UTC</td>\n",
       "      <td>-73.980275</td>\n",
       "      <td>40.690055</td>\n",
       "      <td>-73.956537</td>\n",
       "      <td>40.656872</td>\n",
       "      <td>5</td>\n",
       "    </tr>\n",
       "  </tbody>\n",
       "</table>\n",
       "</div>"
      ],
      "text/plain": [
       "                             key  fare_amount          pickup_datetime  \\\n",
       "0    2014-05-19 22:49:39.0000003         20.5  2014-05-19 22:49:39 UTC   \n",
       "1  2014-05-13 08:18:00.000000163         30.0  2014-05-13 08:18:00 UTC   \n",
       "2    2011-06-30 15:50:59.0000002         24.1  2011-06-30 15:50:59 UTC   \n",
       "3   2011-02-07 16:00:00.00000066          9.3  2011-02-07 16:00:00 UTC   \n",
       "4   2011-05-07 01:22:00.00000081          9.3  2011-05-07 01:22:00 UTC   \n",
       "\n",
       "   pickup_longitude  pickup_latitude  dropoff_longitude  dropoff_latitude  \\\n",
       "0        -73.985474        40.738516         -73.974870         40.793099   \n",
       "1        -73.970737        40.758497         -73.937903         40.848190   \n",
       "2        -73.967693        40.756341         -73.975364         40.675990   \n",
       "3        -73.989772        40.734185         -73.997172         40.756250   \n",
       "4        -73.980275        40.690055         -73.956537         40.656872   \n",
       "\n",
       "   passenger_count  \n",
       "0                4  \n",
       "1                2  \n",
       "2                1  \n",
       "3                3  \n",
       "4                5  "
      ]
     },
     "execution_count": 212,
     "metadata": {},
     "output_type": "execute_result"
    }
   ],
   "source": [
    "df = pd.read_csv('train_subsample.csv')\n",
    "df.info()\n",
    "df.head()"
   ]
  },
  {
   "cell_type": "markdown",
   "metadata": {},
   "source": [
    "The features, as described in the challenge page, are:\n",
    "* *pickup_datetime* - `timestamp` value indicating when the taxi ride started.\n",
    "* *pickup_longitude* - `float` for longitude coordinate of where the taxi ride started.\n",
    "* *pickup_latitude* - `float` for latitude coordinate of where the taxi ride started.\n",
    "* *dropoff_longitude* - `float` for longitude coordinate of where the taxi ride ended.\n",
    "* *dropoff_latitude* - `float` for latitude coordinate of where the taxi ride ended.\n",
    "* *passenger_count* - `integer` indicating the number of passengers in the taxi ride."
   ]
  },
  {
   "cell_type": "markdown",
   "metadata": {},
   "source": [
    "Our targer is:  \n",
    "*fare_amount* - `float` dollar amount of the cost of the taxi ride."
   ]
  },
  {
   "cell_type": "markdown",
   "metadata": {},
   "source": [
    "Note that the *key* feature comprised of the *pickup_datetime* plus a unique integer, but it doesn't matter, we'll treat it like an ID."
   ]
  },
  {
   "cell_type": "markdown",
   "metadata": {},
   "source": [
    "#  1. EDA"
   ]
  },
  {
   "cell_type": "markdown",
   "metadata": {},
   "source": [
    "In this section, I going to explore the data.  \n",
    "My motvation is to get familiar with the features' values, find some correlations and make some visualizations."
   ]
  },
  {
   "cell_type": "markdown",
   "metadata": {},
   "source": [
    "First, let's create a histogram of the *passenger_count* and *fare_amount*"
   ]
  },
  {
   "cell_type": "code",
   "execution_count": 3,
   "metadata": {
    "ExecuteTime": {
     "end_time": "2020-09-14T06:17:02.716612Z",
     "start_time": "2020-09-14T06:17:02.294264Z"
    }
   },
   "outputs": [
    {
     "data": {
      "text/plain": [
       "<matplotlib.axes._subplots.AxesSubplot at 0x7f0a562ade50>"
      ]
     },
     "execution_count": 3,
     "metadata": {},
     "output_type": "execute_result"
    },
    {
     "data": {
      "image/png": "[encoded data removed]",
      "text/plain": [
       "<Figure size 432x288 with 1 Axes>"
      ]
     },
     "metadata": {},
     "output_type": "display_data"
    }
   ],
   "source": [
    "b_width = 0.8\n",
    "my_bins = np.arange(min(df['passenger_count']), max(df['passenger_count']) + b_width, b_width)\n",
    "sns.distplot(df['passenger_count'], kde=False, bins=my_bins)"
   ]
  },
  {
   "cell_type": "markdown",
   "metadata": {},
   "source": [
    "To make the following plot more interpretable, I trimmed outliers (more serious outliers handling will made in [the next section](#2.3-Outliers-detection)"
   ]
  },
  {
   "cell_type": "code",
   "execution_count": 4,
   "metadata": {
    "ExecuteTime": {
     "end_time": "2020-09-14T06:17:03.222433Z",
     "start_time": "2020-09-14T06:17:02.718400Z"
    }
   },
   "outputs": [
    {
     "data": {
      "text/plain": [
       "<matplotlib.axes._subplots.AxesSubplot at 0x7f0a55272350>"
      ]
     },
     "execution_count": 4,
     "metadata": {},
     "output_type": "execute_result"
    },
    {
     "data": {
      "image/png": "[encoded data removed]",
      "text/plain": [
       "<Figure size 432x288 with 1 Axes>"
      ]
     },
     "metadata": {},
     "output_type": "display_data"
    }
   ],
   "source": [
    "sns.distplot(df[(df['fare_amount'] > 0) & (df['fare_amount'] < 80)]['fare_amount'], kde=False)"
   ]
  },
  {
   "cell_type": "markdown",
   "metadata": {},
   "source": [
    "And lets see the box:"
   ]
  },
  {
   "cell_type": "code",
   "execution_count": 5,
   "metadata": {
    "ExecuteTime": {
     "end_time": "2020-09-14T06:17:03.786819Z",
     "start_time": "2020-09-14T06:17:03.224285Z"
    }
   },
   "outputs": [
    {
     "data": {
      "text/plain": [
       "<matplotlib.axes._subplots.AxesSubplot at 0x7f0a55110810>"
      ]
     },
     "execution_count": 5,
     "metadata": {},
     "output_type": "execute_result"
    },
    {
     "data": {
      "image/png": "[encoded data removed]",
      "text/plain": [
       "<Figure size 432x288 with 1 Axes>"
      ]
     },
     "metadata": {},
     "output_type": "display_data"
    }
   ],
   "source": [
    "sns.boxplot(x='passenger_count', y='fare_amount', data=df[(df['fare_amount'] > 0) & (df['fare_amount'] < 80)])"
   ]
  },
  {
   "cell_type": "markdown",
   "metadata": {},
   "source": [
    "Althought we can clearly see the a 9-passengers fare increases dramatically, for now, there's nothing else we can learn on the data untill we do some feature engineering, because the other features are not measurable.  \n",
    "So, in the next section, we'll see the another EDA process of the new features."
   ]
  },
  {
   "cell_type": "markdown",
   "metadata": {},
   "source": [
    "# 2. Feature Engineering"
   ]
  },
  {
   "cell_type": "markdown",
   "metadata": {},
   "source": [
    "In this section I'd like to create, drop, and tune some of the features.  \n",
    "The main idea of the FE process is to find more indicative properties of the data, which may ease the learning process of the model."
   ]
  },
  {
   "cell_type": "code",
   "execution_count": 213,
   "metadata": {
    "ExecuteTime": {
     "end_time": "2020-09-16T07:41:53.433407Z",
     "start_time": "2020-09-16T07:41:53.398748Z"
    },
    "scrolled": true
   },
   "outputs": [
    {
     "name": "stdout",
     "output_type": "stream",
     "text": [
      "<class 'pandas.core.frame.DataFrame'>\n",
      "RangeIndex: 250000 entries, 0 to 249999\n",
      "Data columns (total 8 columns):\n",
      " #   Column             Non-Null Count   Dtype  \n",
      "---  ------             --------------   -----  \n",
      " 0   key                250000 non-null  object \n",
      " 1   fare_amount        250000 non-null  float64\n",
      " 2   pickup_datetime    250000 non-null  object \n",
      " 3   pickup_longitude   250000 non-null  float64\n",
      " 4   pickup_latitude    250000 non-null  float64\n",
      " 5   dropoff_longitude  249999 non-null  float64\n",
      " 6   dropoff_latitude   249999 non-null  float64\n",
      " 7   passenger_count    250000 non-null  int64  \n",
      "dtypes: float64(5), int64(1), object(2)\n",
      "memory usage: 15.3+ MB\n"
     ]
    }
   ],
   "source": [
    "df.info()"
   ]
  },
  {
   "cell_type": "markdown",
   "metadata": {},
   "source": [
    "Because there's only 1 null value, we can get rid of this entry without any apprehension."
   ]
  },
  {
   "cell_type": "code",
   "execution_count": 7,
   "metadata": {
    "ExecuteTime": {
     "end_time": "2020-09-14T06:17:03.865094Z",
     "start_time": "2020-09-14T06:17:03.822969Z"
    }
   },
   "outputs": [],
   "source": [
    "df.dropna(inplace=True)"
   ]
  },
  {
   "cell_type": "markdown",
   "metadata": {
    "heading_collapsed": true
   },
   "source": [
    "## 2.1 Times"
   ]
  },
  {
   "cell_type": "markdown",
   "metadata": {
    "hidden": true
   },
   "source": [
    "We have only 1 datetime feature: `pickup_datetime`.  \n",
    "So, we can't calculate the trip's duration, which intuitively high-correlated to the fare.  \n",
    "In, addition, we can't assume some \"average speed\" and use the distances to calculate the duration.  \n",
    "  \n",
    "What we can do, is refer to the pickup_datetime components: day of week (weekend?), hour (night fee?) etc. "
   ]
  },
  {
   "cell_type": "code",
   "execution_count": 8,
   "metadata": {
    "ExecuteTime": {
     "end_time": "2020-09-14T06:17:37.362777Z",
     "start_time": "2020-09-14T06:17:03.866683Z"
    },
    "hidden": true
   },
   "outputs": [],
   "source": [
    "df['pickup_datetime'] = pd.to_datetime(df['pickup_datetime'])"
   ]
  },
  {
   "cell_type": "code",
   "execution_count": 9,
   "metadata": {
    "ExecuteTime": {
     "end_time": "2020-09-14T06:17:37.502784Z",
     "start_time": "2020-09-14T06:17:37.365557Z"
    },
    "hidden": true
   },
   "outputs": [],
   "source": [
    "interesting_attributes = ['dayofweek', 'hour', 'year', 'month']\n",
    "for attr in interesting_attributes:\n",
    "    df[f'pickup_{attr}'] = df['pickup_datetime'].apply(lambda x: getattr(x, attr))"
   ]
  },
  {
   "cell_type": "markdown",
   "metadata": {
    "ExecuteTime": {
     "end_time": "2020-09-10T07:30:14.289375Z",
     "start_time": "2020-09-10T07:30:14.271075Z"
    },
    "hidden": true
   },
   "source": [
    "According to [Taxi-Calculator](https://www.taxi-calculator.com/taxi-fare-new-york-city/259), in NYC, night-fare and weekend-fare are between 8pm to 6am, and on Sunday an Saturday.  \n",
    "so me can make 2 new features: `is_weekend` and `is_night`:"
   ]
  },
  {
   "cell_type": "code",
   "execution_count": 10,
   "metadata": {
    "ExecuteTime": {
     "end_time": "2020-09-14T06:17:37.507792Z",
     "start_time": "2020-09-14T06:17:37.504734Z"
    },
    "hidden": true
   },
   "outputs": [],
   "source": [
    "def is_weekend(day):\n",
    "    return day >= 6 # 6 = Saturday and 7 = Sunday\n",
    "def is_night(hour):\n",
    "    return hour >= 20 or hour <= 6"
   ]
  },
  {
   "cell_type": "code",
   "execution_count": 11,
   "metadata": {
    "ExecuteTime": {
     "end_time": "2020-09-14T06:17:37.613199Z",
     "start_time": "2020-09-14T06:17:37.509190Z"
    },
    "hidden": true
   },
   "outputs": [],
   "source": [
    "df['is_weekend'] = df['pickup_dayofweek'].apply(is_weekend)\n",
    "df['is_night'] = df['pickup_hour'].apply(is_night)"
   ]
  },
  {
   "cell_type": "code",
   "execution_count": 12,
   "metadata": {
    "ExecuteTime": {
     "end_time": "2020-09-14T06:17:37.634985Z",
     "start_time": "2020-09-14T06:17:37.614690Z"
    },
    "hidden": true
   },
   "outputs": [
    {
     "data": {
      "text/plain": [
       "pickup_month\n",
       "1     10.751443\n",
       "2     10.897705\n",
       "7     11.120039\n",
       "3     11.143398\n",
       "8     11.201249\n",
       "4     11.398822\n",
       "6     11.478080\n",
       "12    11.528810\n",
       "11    11.653664\n",
       "5     11.672626\n",
       "10    11.715676\n",
       "9     11.856588\n",
       "Name: fare_amount, dtype: float64"
      ]
     },
     "execution_count": 12,
     "metadata": {},
     "output_type": "execute_result"
    }
   ],
   "source": [
    "df.groupby('pickup_month')['fare_amount'].mean().sort_values()"
   ]
  },
  {
   "cell_type": "markdown",
   "metadata": {
    "hidden": true
   },
   "source": [
    "It seems like we can add another feature: `quarter`"
   ]
  },
  {
   "cell_type": "code",
   "execution_count": 13,
   "metadata": {
    "ExecuteTime": {
     "end_time": "2020-09-14T06:17:37.675896Z",
     "start_time": "2020-09-14T06:17:37.636777Z"
    },
    "hidden": true
   },
   "outputs": [],
   "source": [
    "df['pickup_quarter'] = df['pickup_datetime'].dt.quarter"
   ]
  },
  {
   "cell_type": "code",
   "execution_count": 14,
   "metadata": {
    "ExecuteTime": {
     "end_time": "2020-09-14T06:17:37.681755Z",
     "start_time": "2020-09-14T06:17:37.677345Z"
    },
    "hidden": true
   },
   "outputs": [
    {
     "data": {
      "text/plain": [
       "943"
      ]
     },
     "execution_count": 14,
     "metadata": {},
     "output_type": "execute_result"
    }
   ],
   "source": [
    "(df['fare_amount'] > 57.5).sum()"
   ]
  },
  {
   "cell_type": "code",
   "execution_count": 15,
   "metadata": {
    "ExecuteTime": {
     "end_time": "2020-09-14T06:17:38.037746Z",
     "start_time": "2020-09-14T06:17:37.683199Z"
    },
    "hidden": true,
    "scrolled": true
   },
   "outputs": [
    {
     "data": {
      "text/plain": [
       "<matplotlib.axes._subplots.AxesSubplot at 0x7f0a5501c890>"
      ]
     },
     "execution_count": 15,
     "metadata": {},
     "output_type": "execute_result"
    },
    {
     "data": {
      "image/png": "[encoded data removed]",
      "text/plain": [
       "<Figure size 432x288 with 1 Axes>"
      ]
     },
     "metadata": {},
     "output_type": "display_data"
    }
   ],
   "source": [
    "sns.boxenplot(x='pickup_quarter', y='fare_amount', data=df[(df['fare_amount'] > 0) & (df['fare_amount'] < 57.5)])"
   ]
  },
  {
   "cell_type": "code",
   "execution_count": 16,
   "metadata": {
    "ExecuteTime": {
     "end_time": "2020-09-14T06:17:38.051663Z",
     "start_time": "2020-09-14T06:17:38.039822Z"
    },
    "hidden": true
   },
   "outputs": [
    {
     "data": {
      "text/plain": [
       "pickup_quarter\n",
       "1    10.934763\n",
       "3    11.397181\n",
       "2    11.517901\n",
       "4    11.633975\n",
       "Name: fare_amount, dtype: float64"
      ]
     },
     "execution_count": 16,
     "metadata": {},
     "output_type": "execute_result"
    }
   ],
   "source": [
    "df.groupby('pickup_quarter')['fare_amount'].mean().sort_values()"
   ]
  },
  {
   "cell_type": "code",
   "execution_count": 17,
   "metadata": {
    "ExecuteTime": {
     "end_time": "2020-09-14T06:17:38.479257Z",
     "start_time": "2020-09-14T06:17:38.053545Z"
    },
    "hidden": true
   },
   "outputs": [
    {
     "data": {
      "text/plain": [
       "<matplotlib.axes._subplots.AxesSubplot at 0x7f0a54f4d650>"
      ]
     },
     "execution_count": 17,
     "metadata": {},
     "output_type": "execute_result"
    },
    {
     "data": {
      "image/png": "[encoded data removed]",
      "text/plain": [
       "<Figure size 432x288 with 1 Axes>"
      ]
     },
     "metadata": {},
     "output_type": "display_data"
    }
   ],
   "source": [
    "sns.boxenplot(x='pickup_dayofweek', y='fare_amount', data=df[(df['fare_amount'] > 0) & (df['fare_amount'] < 57.5)])"
   ]
  },
  {
   "cell_type": "code",
   "execution_count": 18,
   "metadata": {
    "ExecuteTime": {
     "end_time": "2020-09-14T06:17:38.492380Z",
     "start_time": "2020-09-14T06:17:38.480939Z"
    },
    "hidden": true
   },
   "outputs": [
    {
     "data": {
      "text/plain": [
       "pickup_dayofweek\n",
       "5    11.040621\n",
       "1    11.245092\n",
       "2    11.260838\n",
       "0    11.370304\n",
       "4    11.420760\n",
       "3    11.561383\n",
       "6    11.661180\n",
       "Name: fare_amount, dtype: float64"
      ]
     },
     "execution_count": 18,
     "metadata": {},
     "output_type": "execute_result"
    }
   ],
   "source": [
    "df.groupby('pickup_dayofweek')['fare_amount'].mean().sort_values()"
   ]
  },
  {
   "cell_type": "markdown",
   "metadata": {
    "hidden": true
   },
   "source": [
    "Althougt there're some minor differeces, TBH it's not to indicative."
   ]
  },
  {
   "cell_type": "markdown",
   "metadata": {},
   "source": [
    "## 2.2 Location"
   ]
  },
  {
   "cell_type": "markdown",
   "metadata": {},
   "source": [
    "The 4 geographical feature may help us find interesting patterns.  \n",
    "In the following sub-section I'll try to find patterns by trips length approximation, division by boroughs etc. "
   ]
  },
  {
   "cell_type": "markdown",
   "metadata": {},
   "source": [
    "We can calculate the distance between 2 geographic points using [*haversine formula*](https://en.wikipedia.org/wiki/Haversine_formula):"
   ]
  },
  {
   "cell_type": "code",
   "execution_count": 19,
   "metadata": {
    "ExecuteTime": {
     "end_time": "2020-09-14T06:17:38.501480Z",
     "start_time": "2020-09-14T06:17:38.494327Z"
    }
   },
   "outputs": [],
   "source": [
    "from math import radians, cos, sin, asin, sqrt\n",
    "\n",
    "def haversine(lon1, lat1, lon2, lat2):\n",
    "    \"\"\"\n",
    "    Calculate the great circle distance between two points \n",
    "    on the earth (specified in decimal degrees)\n",
    "    \"\"\"\n",
    "    # convert decimal degrees to radians \n",
    "    lon1, lat1, lon2, lat2 = map(radians, [lon1, lat1, lon2, lat2])\n",
    "\n",
    "    # haversine formula \n",
    "    dlon = lon2 - lon1 \n",
    "    dlat = lat2 - lat1 \n",
    "    a = sin(dlat/2)**2 + cos(lat1) * cos(lat2) * sin(dlon/2)**2\n",
    "    c = 2 * asin(sqrt(a)) \n",
    "    r = 6371 # Radius of earth in kilometers. Use 3956 for miles\n",
    "    return c * r"
   ]
  },
  {
   "cell_type": "code",
   "execution_count": 20,
   "metadata": {
    "ExecuteTime": {
     "end_time": "2020-09-14T06:18:14.585307Z",
     "start_time": "2020-09-14T06:17:38.503290Z"
    }
   },
   "outputs": [],
   "source": [
    "df['distance'] = df.apply(\n",
    "                    lambda row: haversine(\n",
    "                        row['pickup_longitude'], \n",
    "                        row['pickup_latitude'], \n",
    "                        row['dropoff_longitude'], \n",
    "                        row['dropoff_latitude']),\n",
    "                    axis=1)"
   ]
  },
  {
   "cell_type": "code",
   "execution_count": 21,
   "metadata": {
    "ExecuteTime": {
     "end_time": "2020-09-14T06:18:15.099798Z",
     "start_time": "2020-09-14T06:18:14.587424Z"
    }
   },
   "outputs": [
    {
     "data": {
      "text/plain": [
       "<matplotlib.axes._subplots.AxesSubplot at 0x7f0a55110990>"
      ]
     },
     "execution_count": 21,
     "metadata": {},
     "output_type": "execute_result"
    },
    {
     "data": {
      "image/png": "[encoded data removed]",
      "text/plain": [
       "<Figure size 432x288 with 1 Axes>"
      ]
     },
     "metadata": {},
     "output_type": "display_data"
    }
   ],
   "source": [
    "sns.distplot(df[(df['distance'] > 0) & (df['distance'] < 25)]['distance'], kde=False)"
   ]
  },
  {
   "cell_type": "markdown",
   "metadata": {},
   "source": [
    "Another cool feature we can extract from the geo-location is the boroughs.  \n",
    "Maybe we can found patterns using this information.  \n",
    "  \n",
    "Now, we have to ask ourselves 2 questions:  \n",
    "1. How can we associate trip to borough?\n",
    "2. How can we represent this association?  \n",
    "  \n",
    "Ok, by quick search in wikipedia, each borough has a \"central\" geolocation (lat, lon):  \n",
    "* [`Manhattan`](https://en.wikipedia.org/wiki/Manhattan) - 40.783333, -73.966667\n",
    "* [`Brooklyn`](https://en.wikipedia.org/wiki/Brooklyn) - 40.624722, -73.952222\n",
    "* [`Queens`](https://en.wikipedia.org/wiki/Queens) - 40.75, -73.866667\n",
    "* [`The Bronx`](https://en.wikipedia.org/wiki/The_Bronx) - 40.837222, -73.886111\n",
    "* [`Staten Island`](https://en.wikipedia.org/wiki/Staten_Island) - 40.571944, -74.146944\n",
    "\n",
    "We can refer those point as 5 *means*, and accosiate trips by *Haversine distance*.  \n",
    "Now, about the representation, we'll try 2 options:\n",
    "1. One categorical feature - with the tag of the closest borough\n",
    "2. Distance vector - 5 features which each of them is the distance to other borough"
   ]
  },
  {
   "cell_type": "code",
   "execution_count": 22,
   "metadata": {
    "ExecuteTime": {
     "end_time": "2020-09-14T06:18:15.106382Z",
     "start_time": "2020-09-14T06:18:15.101753Z"
    }
   },
   "outputs": [],
   "source": [
    "boroughs_means = {'Manhattan' : (-73.966667, 40.783333),\n",
    "                  'Brooklyn' : (-73.952222, 40.624722),\n",
    "                  'Queens' : (-73.866667, 40.75),\n",
    "                  'The Bronx' : (-73.886111, 40.837222),\n",
    "                  'Staten Island' : (-74.146944, 40.571944)}\n",
    "\n",
    "def multiple_haversine(src, dsts):\n",
    "    return [haversine(*src, *dst) for dst in dsts]"
   ]
  },
  {
   "cell_type": "code",
   "execution_count": 23,
   "metadata": {
    "ExecuteTime": {
     "end_time": "2020-09-14T06:19:01.260205Z",
     "start_time": "2020-09-14T06:18:15.108226Z"
    }
   },
   "outputs": [],
   "source": [
    "df[[f'pickup_dist_{b.replace(\" \", \"_\")}' for b in boroughs_means.keys()]] = \\\n",
    "df.apply(\n",
    "    lambda row: multiple_haversine(\n",
    "        (row['pickup_longitude'], row['pickup_latitude']), \n",
    "        boroughs_means.values()), \n",
    "    axis=1, result_type='expand')"
   ]
  },
  {
   "cell_type": "code",
   "execution_count": 24,
   "metadata": {
    "ExecuteTime": {
     "end_time": "2020-09-14T06:19:47.250395Z",
     "start_time": "2020-09-14T06:19:01.262296Z"
    }
   },
   "outputs": [],
   "source": [
    "df[[f'dropoff_dist_{b.replace(\" \", \"_\")}' for b in boroughs_means.keys()]] = \\\n",
    "df.apply(\n",
    "    lambda row: multiple_haversine(\n",
    "        (row['dropoff_longitude'], row['dropoff_latitude']), \n",
    "        boroughs_means.values()), \n",
    "    axis=1, result_type='expand')"
   ]
  },
  {
   "cell_type": "markdown",
   "metadata": {},
   "source": [
    "I'll explain what I've done here:  \n",
    "From pandas 0.23, you can pass the `apply` function a `result_type` argument. With the `expand` option passed there, apply unpacks the result (given it's iterable) to different columns.  \n",
    "So, I just assign the results to new columns which I generated by list comprehension, to a form of: `pickup_dist_{borough}` (and dropoff respectively).  \n",
    "\n",
    "Now let's add a new column of the closest borough category:"
   ]
  },
  {
   "cell_type": "code",
   "execution_count": 25,
   "metadata": {
    "ExecuteTime": {
     "end_time": "2020-09-14T06:19:47.992281Z",
     "start_time": "2020-09-14T06:19:47.252464Z"
    }
   },
   "outputs": [],
   "source": [
    "df['pickup_closest'] = df[[f'pickup_dist_{b.replace(\" \", \"_\")}' for b in boroughs_means.keys()]]\\\n",
    "                        .idxmin(axis=1)\\\n",
    "                        .str.split('dist_')\\\n",
    "                        .apply(lambda x: x[-1])"
   ]
  },
  {
   "cell_type": "code",
   "execution_count": 26,
   "metadata": {
    "ExecuteTime": {
     "end_time": "2020-09-14T06:19:48.793992Z",
     "start_time": "2020-09-14T06:19:47.994438Z"
    }
   },
   "outputs": [],
   "source": [
    "df['dropoff_closest'] = df[[f'dropoff_dist_{b.replace(\" \", \"_\")}' for b in boroughs_means.keys()]]\\\n",
    "                        .idxmin(axis=1)\\\n",
    "                        .str.split('dist_')\\\n",
    "                        .apply(lambda x: x[-1])"
   ]
  },
  {
   "cell_type": "markdown",
   "metadata": {},
   "source": [
    "And we can identify which trips were cross boroughs:"
   ]
  },
  {
   "cell_type": "code",
   "execution_count": 27,
   "metadata": {
    "ExecuteTime": {
     "end_time": "2020-09-14T06:19:48.826928Z",
     "start_time": "2020-09-14T06:19:48.797775Z"
    }
   },
   "outputs": [],
   "source": [
    "df['is_cross_borough'] = df['dropoff_closest'] != df['pickup_closest']"
   ]
  },
  {
   "cell_type": "code",
   "execution_count": 28,
   "metadata": {
    "ExecuteTime": {
     "end_time": "2020-09-14T06:19:49.328478Z",
     "start_time": "2020-09-14T06:19:48.829205Z"
    }
   },
   "outputs": [
    {
     "data": {
      "text/plain": [
       "<matplotlib.axes._subplots.AxesSubplot at 0x7f0a54f118d0>"
      ]
     },
     "execution_count": 28,
     "metadata": {},
     "output_type": "execute_result"
    },
    {
     "data": {
      "image/png": "[encoded data removed]",
      "text/plain": [
       "<Figure size 432x288 with 1 Axes>"
      ]
     },
     "metadata": {},
     "output_type": "display_data"
    }
   ],
   "source": [
    "sns.boxplot(x='pickup_closest', y='fare_amount', data=df[(df['fare_amount'] > 0) & (df['fare_amount'] < 55)])"
   ]
  },
  {
   "cell_type": "markdown",
   "metadata": {},
   "source": [
    "We can certainly see that Queens quarter is the most expensive.  \n",
    "We hope that cross-borough rides will cost more. let's check it out:"
   ]
  },
  {
   "cell_type": "code",
   "execution_count": 29,
   "metadata": {
    "ExecuteTime": {
     "end_time": "2020-09-14T06:19:49.650423Z",
     "start_time": "2020-09-14T06:19:49.330984Z"
    },
    "scrolled": true
   },
   "outputs": [
    {
     "data": {
      "text/plain": [
       "<matplotlib.axes._subplots.AxesSubplot at 0x7f0a4a90b310>"
      ]
     },
     "execution_count": 29,
     "metadata": {},
     "output_type": "execute_result"
    },
    {
     "data": {
      "image/png": "[encoded data removed]",
      "text/plain": [
       "<Figure size 432x288 with 1 Axes>"
      ]
     },
     "metadata": {},
     "output_type": "display_data"
    }
   ],
   "source": [
    "sns.boxplot(x='is_cross_borough', y='fare_amount', data=df[(df['fare_amount'] > 0) & (df['fare_amount'] < 55)])"
   ]
  },
  {
   "cell_type": "markdown",
   "metadata": {},
   "source": [
    "Tears of joy :*)"
   ]
  },
  {
   "cell_type": "markdown",
   "metadata": {
    "heading_collapsed": true
   },
   "source": [
    "## 2.3 Outliers Detection"
   ]
  },
  {
   "cell_type": "markdown",
   "metadata": {
    "hidden": true
   },
   "source": [
    "In the following sub-section we'll try to detect outliers.  \n",
    "Outlier is an unreasonable sample.  \n",
    "There are some serious methods for outlire detection (e.g Isolation Forest), but we won't use any of these.  \n",
    "instead, we just use our common sense to propuse thumb-rules to identify an outlier.  \n",
    "\n",
    "Let's see the data description:"
   ]
  },
  {
   "cell_type": "code",
   "execution_count": 30,
   "metadata": {
    "ExecuteTime": {
     "end_time": "2020-09-14T06:19:49.908875Z",
     "start_time": "2020-09-14T06:19:49.652881Z"
    },
    "hidden": true,
    "scrolled": false
   },
   "outputs": [
    {
     "data": {
      "text/html": [
       "<div>\n",
       "<style scoped>\n",
       "    .dataframe tbody tr th:only-of-type {\n",
       "        vertical-align: middle;\n",
       "    }\n",
       "\n",
       "    .dataframe tbody tr th {\n",
       "        vertical-align: top;\n",
       "    }\n",
       "\n",
       "    .dataframe thead th {\n",
       "        text-align: right;\n",
       "    }\n",
       "</style>\n",
       "<table border=\"1\" class=\"dataframe\">\n",
       "  <thead>\n",
       "    <tr style=\"text-align: right;\">\n",
       "      <th></th>\n",
       "      <th>count</th>\n",
       "      <th>mean</th>\n",
       "      <th>std</th>\n",
       "      <th>min</th>\n",
       "      <th>25%</th>\n",
       "      <th>50%</th>\n",
       "      <th>75%</th>\n",
       "      <th>max</th>\n",
       "    </tr>\n",
       "  </thead>\n",
       "  <tbody>\n",
       "    <tr>\n",
       "      <th>fare_amount</th>\n",
       "      <td>249999.0</td>\n",
       "      <td>11.361621</td>\n",
       "      <td>9.838976</td>\n",
       "      <td>-176.000000</td>\n",
       "      <td>6.000000</td>\n",
       "      <td>8.500000</td>\n",
       "      <td>12.500000</td>\n",
       "      <td>445.000000</td>\n",
       "    </tr>\n",
       "    <tr>\n",
       "      <th>passenger_count</th>\n",
       "      <td>249999.0</td>\n",
       "      <td>1.683979</td>\n",
       "      <td>1.309182</td>\n",
       "      <td>0.000000</td>\n",
       "      <td>1.000000</td>\n",
       "      <td>1.000000</td>\n",
       "      <td>2.000000</td>\n",
       "      <td>9.000000</td>\n",
       "    </tr>\n",
       "    <tr>\n",
       "      <th>pickup_dayofweek</th>\n",
       "      <td>249999.0</td>\n",
       "      <td>3.034868</td>\n",
       "      <td>1.950707</td>\n",
       "      <td>0.000000</td>\n",
       "      <td>1.000000</td>\n",
       "      <td>3.000000</td>\n",
       "      <td>5.000000</td>\n",
       "      <td>6.000000</td>\n",
       "    </tr>\n",
       "    <tr>\n",
       "      <th>pickup_hour</th>\n",
       "      <td>249999.0</td>\n",
       "      <td>13.518450</td>\n",
       "      <td>6.510339</td>\n",
       "      <td>0.000000</td>\n",
       "      <td>9.000000</td>\n",
       "      <td>14.000000</td>\n",
       "      <td>19.000000</td>\n",
       "      <td>23.000000</td>\n",
       "    </tr>\n",
       "    <tr>\n",
       "      <th>pickup_year</th>\n",
       "      <td>249999.0</td>\n",
       "      <td>2011.742323</td>\n",
       "      <td>1.861931</td>\n",
       "      <td>2009.000000</td>\n",
       "      <td>2010.000000</td>\n",
       "      <td>2012.000000</td>\n",
       "      <td>2013.000000</td>\n",
       "      <td>2015.000000</td>\n",
       "    </tr>\n",
       "    <tr>\n",
       "      <th>pickup_month</th>\n",
       "      <td>249999.0</td>\n",
       "      <td>6.260693</td>\n",
       "      <td>3.437084</td>\n",
       "      <td>1.000000</td>\n",
       "      <td>3.000000</td>\n",
       "      <td>6.000000</td>\n",
       "      <td>9.000000</td>\n",
       "      <td>12.000000</td>\n",
       "    </tr>\n",
       "    <tr>\n",
       "      <th>pickup_quarter</th>\n",
       "      <td>249999.0</td>\n",
       "      <td>2.421070</td>\n",
       "      <td>1.115718</td>\n",
       "      <td>1.000000</td>\n",
       "      <td>1.000000</td>\n",
       "      <td>2.000000</td>\n",
       "      <td>3.000000</td>\n",
       "      <td>4.000000</td>\n",
       "    </tr>\n",
       "    <tr>\n",
       "      <th>distance</th>\n",
       "      <td>249999.0</td>\n",
       "      <td>19.918207</td>\n",
       "      <td>371.863695</td>\n",
       "      <td>0.000000</td>\n",
       "      <td>1.214178</td>\n",
       "      <td>2.115100</td>\n",
       "      <td>3.873910</td>\n",
       "      <td>14887.931252</td>\n",
       "    </tr>\n",
       "    <tr>\n",
       "      <th>pickup_dist_Manhattan</th>\n",
       "      <td>249999.0</td>\n",
       "      <td>177.100383</td>\n",
       "      <td>1225.175604</td>\n",
       "      <td>0.082493</td>\n",
       "      <td>2.331962</td>\n",
       "      <td>3.991758</td>\n",
       "      <td>6.149117</td>\n",
       "      <td>15088.003410</td>\n",
       "    </tr>\n",
       "    <tr>\n",
       "      <th>pickup_dist_Brooklyn</th>\n",
       "      <td>249999.0</td>\n",
       "      <td>186.842205</td>\n",
       "      <td>1223.118841</td>\n",
       "      <td>0.115113</td>\n",
       "      <td>13.100441</td>\n",
       "      <td>14.645095</td>\n",
       "      <td>16.161947</td>\n",
       "      <td>15071.104918</td>\n",
       "    </tr>\n",
       "    <tr>\n",
       "      <th>pickup_dist_Queens</th>\n",
       "      <td>249999.0</td>\n",
       "      <td>182.175983</td>\n",
       "      <td>1223.212626</td>\n",
       "      <td>0.277276</td>\n",
       "      <td>9.001979</td>\n",
       "      <td>10.104219</td>\n",
       "      <td>10.912177</td>\n",
       "      <td>15081.518115</td>\n",
       "    </tr>\n",
       "    <tr>\n",
       "      <th>pickup_dist_The_Bronx</th>\n",
       "      <td>249999.0</td>\n",
       "      <td>184.837659</td>\n",
       "      <td>1223.347566</td>\n",
       "      <td>0.446261</td>\n",
       "      <td>10.663597</td>\n",
       "      <td>12.453575</td>\n",
       "      <td>14.573116</td>\n",
       "      <td>15091.156648</td>\n",
       "    </tr>\n",
       "    <tr>\n",
       "      <th>pickup_dist_Staten_Island</th>\n",
       "      <td>249999.0</td>\n",
       "      <td>197.129556</td>\n",
       "      <td>1223.718393</td>\n",
       "      <td>1.584085</td>\n",
       "      <td>22.614331</td>\n",
       "      <td>24.702736</td>\n",
       "      <td>26.845872</td>\n",
       "      <td>15071.514693</td>\n",
       "    </tr>\n",
       "    <tr>\n",
       "      <th>dropoff_dist_Manhattan</th>\n",
       "      <td>249999.0</td>\n",
       "      <td>176.380001</td>\n",
       "      <td>1222.616393</td>\n",
       "      <td>0.083423</td>\n",
       "      <td>2.352958</td>\n",
       "      <td>4.024392</td>\n",
       "      <td>6.331129</td>\n",
       "      <td>15970.883223</td>\n",
       "    </tr>\n",
       "    <tr>\n",
       "      <th>dropoff_dist_Brooklyn</th>\n",
       "      <td>249999.0</td>\n",
       "      <td>186.008383</td>\n",
       "      <td>1220.581177</td>\n",
       "      <td>0.308134</td>\n",
       "      <td>13.020559</td>\n",
       "      <td>14.718653</td>\n",
       "      <td>16.338118</td>\n",
       "      <td>15984.326905</td>\n",
       "    </tr>\n",
       "    <tr>\n",
       "      <th>dropoff_dist_Queens</th>\n",
       "      <td>249999.0</td>\n",
       "      <td>181.337701</td>\n",
       "      <td>1220.676023</td>\n",
       "      <td>0.114624</td>\n",
       "      <td>8.940691</td>\n",
       "      <td>10.043677</td>\n",
       "      <td>10.943675</td>\n",
       "      <td>15979.419320</td>\n",
       "    </tr>\n",
       "    <tr>\n",
       "      <th>dropoff_dist_The_Bronx</th>\n",
       "      <td>249999.0</td>\n",
       "      <td>183.915671</td>\n",
       "      <td>1220.823469</td>\n",
       "      <td>0.058394</td>\n",
       "      <td>10.408076</td>\n",
       "      <td>12.354211</td>\n",
       "      <td>14.599493</td>\n",
       "      <td>15971.329548</td>\n",
       "    </tr>\n",
       "    <tr>\n",
       "      <th>dropoff_dist_Staten_Island</th>\n",
       "      <td>249999.0</td>\n",
       "      <td>196.355591</td>\n",
       "      <td>1221.168727</td>\n",
       "      <td>1.587663</td>\n",
       "      <td>22.634391</td>\n",
       "      <td>24.763799</td>\n",
       "      <td>27.068101</td>\n",
       "      <td>15976.942094</td>\n",
       "    </tr>\n",
       "  </tbody>\n",
       "</table>\n",
       "</div>"
      ],
      "text/plain": [
       "                               count         mean          std          min  \\\n",
       "fare_amount                 249999.0    11.361621     9.838976  -176.000000   \n",
       "passenger_count             249999.0     1.683979     1.309182     0.000000   \n",
       "pickup_dayofweek            249999.0     3.034868     1.950707     0.000000   \n",
       "pickup_hour                 249999.0    13.518450     6.510339     0.000000   \n",
       "pickup_year                 249999.0  2011.742323     1.861931  2009.000000   \n",
       "pickup_month                249999.0     6.260693     3.437084     1.000000   \n",
       "pickup_quarter              249999.0     2.421070     1.115718     1.000000   \n",
       "distance                    249999.0    19.918207   371.863695     0.000000   \n",
       "pickup_dist_Manhattan       249999.0   177.100383  1225.175604     0.082493   \n",
       "pickup_dist_Brooklyn        249999.0   186.842205  1223.118841     0.115113   \n",
       "pickup_dist_Queens          249999.0   182.175983  1223.212626     0.277276   \n",
       "pickup_dist_The_Bronx       249999.0   184.837659  1223.347566     0.446261   \n",
       "pickup_dist_Staten_Island   249999.0   197.129556  1223.718393     1.584085   \n",
       "dropoff_dist_Manhattan      249999.0   176.380001  1222.616393     0.083423   \n",
       "dropoff_dist_Brooklyn       249999.0   186.008383  1220.581177     0.308134   \n",
       "dropoff_dist_Queens         249999.0   181.337701  1220.676023     0.114624   \n",
       "dropoff_dist_The_Bronx      249999.0   183.915671  1220.823469     0.058394   \n",
       "dropoff_dist_Staten_Island  249999.0   196.355591  1221.168727     1.587663   \n",
       "\n",
       "                                    25%          50%          75%  \\\n",
       "fare_amount                    6.000000     8.500000    12.500000   \n",
       "passenger_count                1.000000     1.000000     2.000000   \n",
       "pickup_dayofweek               1.000000     3.000000     5.000000   \n",
       "pickup_hour                    9.000000    14.000000    19.000000   \n",
       "pickup_year                 2010.000000  2012.000000  2013.000000   \n",
       "pickup_month                   3.000000     6.000000     9.000000   \n",
       "pickup_quarter                 1.000000     2.000000     3.000000   \n",
       "distance                       1.214178     2.115100     3.873910   \n",
       "pickup_dist_Manhattan          2.331962     3.991758     6.149117   \n",
       "pickup_dist_Brooklyn          13.100441    14.645095    16.161947   \n",
       "pickup_dist_Queens             9.001979    10.104219    10.912177   \n",
       "pickup_dist_The_Bronx         10.663597    12.453575    14.573116   \n",
       "pickup_dist_Staten_Island     22.614331    24.702736    26.845872   \n",
       "dropoff_dist_Manhattan         2.352958     4.024392     6.331129   \n",
       "dropoff_dist_Brooklyn         13.020559    14.718653    16.338118   \n",
       "dropoff_dist_Queens            8.940691    10.043677    10.943675   \n",
       "dropoff_dist_The_Bronx        10.408076    12.354211    14.599493   \n",
       "dropoff_dist_Staten_Island    22.634391    24.763799    27.068101   \n",
       "\n",
       "                                     max  \n",
       "fare_amount                   445.000000  \n",
       "passenger_count                 9.000000  \n",
       "pickup_dayofweek                6.000000  \n",
       "pickup_hour                    23.000000  \n",
       "pickup_year                  2015.000000  \n",
       "pickup_month                   12.000000  \n",
       "pickup_quarter                  4.000000  \n",
       "distance                    14887.931252  \n",
       "pickup_dist_Manhattan       15088.003410  \n",
       "pickup_dist_Brooklyn        15071.104918  \n",
       "pickup_dist_Queens          15081.518115  \n",
       "pickup_dist_The_Bronx       15091.156648  \n",
       "pickup_dist_Staten_Island   15071.514693  \n",
       "dropoff_dist_Manhattan      15970.883223  \n",
       "dropoff_dist_Brooklyn       15984.326905  \n",
       "dropoff_dist_Queens         15979.419320  \n",
       "dropoff_dist_The_Bronx      15971.329548  \n",
       "dropoff_dist_Staten_Island  15976.942094  "
      ]
     },
     "execution_count": 30,
     "metadata": {},
     "output_type": "execute_result"
    }
   ],
   "source": [
    "df.drop(['pickup_longitude', 'pickup_latitude', 'dropoff_longitude', 'dropoff_latitude'], axis=1).describe().T"
   ]
  },
  {
   "cell_type": "markdown",
   "metadata": {
    "hidden": true
   },
   "source": [
    "As we can see, just by looking at the min/max values, there are some unreasonable values.  \n",
    "We'll delve for each feature, to find its normal range:"
   ]
  },
  {
   "cell_type": "markdown",
   "metadata": {
    "hidden": true
   },
   "source": [
    "###  2.3.1 Fares"
   ]
  },
  {
   "cell_type": "code",
   "execution_count": 31,
   "metadata": {
    "ExecuteTime": {
     "end_time": "2020-09-14T06:19:49.930730Z",
     "start_time": "2020-09-14T06:19:49.911416Z"
    },
    "hidden": true
   },
   "outputs": [
    {
     "data": {
      "text/plain": [
       "count    249999.000000\n",
       "mean         11.361621\n",
       "std           9.838976\n",
       "min        -176.000000\n",
       "25%           6.000000\n",
       "50%           8.500000\n",
       "75%          12.500000\n",
       "max         445.000000\n",
       "Name: fare_amount, dtype: float64"
      ]
     },
     "execution_count": 31,
     "metadata": {},
     "output_type": "execute_result"
    }
   ],
   "source": [
    "df['fare_amount'].describe()"
   ]
  },
  {
   "cell_type": "markdown",
   "metadata": {
    "hidden": true
   },
   "source": [
    "There are some negative value (Hah?), and very high fares.  \n",
    "We can easily assume that all the negative values are outliers.  \n",
    "We'll find manually the upper bound:"
   ]
  },
  {
   "cell_type": "code",
   "execution_count": 32,
   "metadata": {
    "ExecuteTime": {
     "end_time": "2020-09-14T06:19:49.963635Z",
     "start_time": "2020-09-14T06:19:49.933072Z"
    },
    "hidden": true
   },
   "outputs": [
    {
     "name": "stdout",
     "output_type": "stream",
     "text": [
      "64\n"
     ]
    }
   ],
   "source": [
    "def find_upper_bound(col, threshold):\n",
    "    if threshold < 1:\n",
    "        threshold = threshold * df[col].count()\n",
    "    for i in range(int(df[col].min()), int(df[col].max()), 10): # non-1 size step for flexibility\n",
    "        if (df[col] > i).sum() < threshold:\n",
    "            return i\n",
    "            \n",
    "print(find_upper_bound('fare_amount', 1000))"
   ]
  },
  {
   "cell_type": "markdown",
   "metadata": {
    "hidden": true
   },
   "source": [
    "So 64$ will be our upper bound."
   ]
  },
  {
   "cell_type": "code",
   "execution_count": 33,
   "metadata": {
    "ExecuteTime": {
     "end_time": "2020-09-14T06:19:50.009893Z",
     "start_time": "2020-09-14T06:19:49.965912Z"
    },
    "hidden": true
   },
   "outputs": [],
   "source": [
    "df = df[(df['fare_amount'] < 64) & (df['fare_amount'] > 0)]"
   ]
  },
  {
   "cell_type": "markdown",
   "metadata": {
    "ExecuteTime": {
     "end_time": "2020-09-10T14:43:34.564775Z",
     "start_time": "2020-09-10T14:43:34.409228Z"
    },
    "hidden": true
   },
   "source": [
    "### 2.3.2 Distances"
   ]
  },
  {
   "cell_type": "code",
   "execution_count": 34,
   "metadata": {
    "ExecuteTime": {
     "end_time": "2020-09-14T06:19:50.030595Z",
     "start_time": "2020-09-14T06:19:50.011996Z"
    },
    "hidden": true
   },
   "outputs": [
    {
     "data": {
      "text/plain": [
       "count    249419.000000\n",
       "mean         19.651731\n",
       "std         369.064206\n",
       "min           0.000000\n",
       "25%           1.214153\n",
       "50%           2.112285\n",
       "75%           3.860784\n",
       "max       14887.931252\n",
       "Name: distance, dtype: float64"
      ]
     },
     "execution_count": 34,
     "metadata": {},
     "output_type": "execute_result"
    }
   ],
   "source": [
    "df['distance'].describe()"
   ]
  },
  {
   "cell_type": "markdown",
   "metadata": {
    "hidden": true
   },
   "source": [
    "Again, 0 will be our lower bound, let's search for upper:"
   ]
  },
  {
   "cell_type": "code",
   "execution_count": 35,
   "metadata": {
    "ExecuteTime": {
     "end_time": "2020-09-14T06:19:50.042279Z",
     "start_time": "2020-09-14T06:19:50.032972Z"
    },
    "hidden": true
   },
   "outputs": [
    {
     "name": "stdout",
     "output_type": "stream",
     "text": [
      "The distance upper bound is: 30\n"
     ]
    }
   ],
   "source": [
    "print(f'The distance upper bound is: {find_upper_bound(\"distance\", 1000)}')"
   ]
  },
  {
   "cell_type": "code",
   "execution_count": 36,
   "metadata": {
    "ExecuteTime": {
     "end_time": "2020-09-14T06:19:50.087129Z",
     "start_time": "2020-09-14T06:19:50.044631Z"
    },
    "hidden": true
   },
   "outputs": [],
   "source": [
    "df = df[(df['distance'] < 30) & (df['distance'] > 0)]"
   ]
  },
  {
   "cell_type": "markdown",
   "metadata": {
    "ExecuteTime": {
     "end_time": "2020-09-10T14:51:35.614247Z",
     "start_time": "2020-09-10T14:51:35.329429Z"
    },
    "hidden": true
   },
   "source": [
    "Now let's see the range of the distances from the boroughs:"
   ]
  },
  {
   "cell_type": "code",
   "execution_count": 37,
   "metadata": {
    "ExecuteTime": {
     "end_time": "2020-09-14T06:19:50.299517Z",
     "start_time": "2020-09-14T06:19:50.089196Z"
    },
    "hidden": true
   },
   "outputs": [],
   "source": [
    "upper_bounds = [find_upper_bound(i, 1000) for i in [f'pickup_dist_{b.replace(\" \", \"_\")}' for b in boroughs_means.keys()]]\n",
    "for col, b in zip([f'pickup_dist_{b.replace(\" \", \"_\")}' for b in boroughs_means.keys()], upper_bounds):\n",
    "    df = df = df[(df[col] < b) & (df[col] > 0)]"
   ]
  },
  {
   "cell_type": "code",
   "execution_count": 38,
   "metadata": {
    "ExecuteTime": {
     "end_time": "2020-09-14T06:19:50.509875Z",
     "start_time": "2020-09-14T06:19:50.301607Z"
    },
    "hidden": true
   },
   "outputs": [],
   "source": [
    "upper_bounds = [find_upper_bound(i, 1000) for i in [f'dropoff_dist_{b.replace(\" \", \"_\")}' for b in boroughs_means.keys()]]\n",
    "for col, b in zip([f'dropoff_dist_{b.replace(\" \", \"_\")}' for b in boroughs_means.keys()], upper_bounds):\n",
    "    df = df = df[(df[col] < b) & (df[col] > 0)]"
   ]
  },
  {
   "cell_type": "markdown",
   "metadata": {
    "hidden": true
   },
   "source": [
    "Let's take another look at the data's description:"
   ]
  },
  {
   "cell_type": "code",
   "execution_count": 39,
   "metadata": {
    "ExecuteTime": {
     "end_time": "2020-09-14T06:19:50.778487Z",
     "start_time": "2020-09-14T06:19:50.511994Z"
    },
    "hidden": true,
    "scrolled": false
   },
   "outputs": [
    {
     "data": {
      "text/html": [
       "<div>\n",
       "<style scoped>\n",
       "    .dataframe tbody tr th:only-of-type {\n",
       "        vertical-align: middle;\n",
       "    }\n",
       "\n",
       "    .dataframe tbody tr th {\n",
       "        vertical-align: top;\n",
       "    }\n",
       "\n",
       "    .dataframe thead th {\n",
       "        text-align: right;\n",
       "    }\n",
       "</style>\n",
       "<table border=\"1\" class=\"dataframe\">\n",
       "  <thead>\n",
       "    <tr style=\"text-align: right;\">\n",
       "      <th></th>\n",
       "      <th>count</th>\n",
       "      <th>mean</th>\n",
       "      <th>std</th>\n",
       "      <th>min</th>\n",
       "      <th>25%</th>\n",
       "      <th>50%</th>\n",
       "      <th>75%</th>\n",
       "      <th>max</th>\n",
       "    </tr>\n",
       "  </thead>\n",
       "  <tbody>\n",
       "    <tr>\n",
       "      <th>fare_amount</th>\n",
       "      <td>240988.0</td>\n",
       "      <td>11.134943</td>\n",
       "      <td>8.841618</td>\n",
       "      <td>0.010000</td>\n",
       "      <td>6.000000</td>\n",
       "      <td>8.500000</td>\n",
       "      <td>12.500000</td>\n",
       "      <td>63.500000</td>\n",
       "    </tr>\n",
       "    <tr>\n",
       "      <th>pickup_longitude</th>\n",
       "      <td>240988.0</td>\n",
       "      <td>-73.975522</td>\n",
       "      <td>0.034018</td>\n",
       "      <td>-74.094487</td>\n",
       "      <td>-73.992258</td>\n",
       "      <td>-73.982113</td>\n",
       "      <td>-73.968445</td>\n",
       "      <td>-73.682678</td>\n",
       "    </tr>\n",
       "    <tr>\n",
       "      <th>pickup_latitude</th>\n",
       "      <td>240988.0</td>\n",
       "      <td>40.750895</td>\n",
       "      <td>0.026545</td>\n",
       "      <td>40.585559</td>\n",
       "      <td>40.736566</td>\n",
       "      <td>40.753382</td>\n",
       "      <td>40.767525</td>\n",
       "      <td>40.886142</td>\n",
       "    </tr>\n",
       "    <tr>\n",
       "      <th>dropoff_longitude</th>\n",
       "      <td>240988.0</td>\n",
       "      <td>-73.974439</td>\n",
       "      <td>0.032119</td>\n",
       "      <td>-74.096357</td>\n",
       "      <td>-73.991517</td>\n",
       "      <td>-73.980517</td>\n",
       "      <td>-73.965353</td>\n",
       "      <td>-73.687312</td>\n",
       "    </tr>\n",
       "    <tr>\n",
       "      <th>dropoff_latitude</th>\n",
       "      <td>240988.0</td>\n",
       "      <td>40.751484</td>\n",
       "      <td>0.029920</td>\n",
       "      <td>40.572824</td>\n",
       "      <td>40.735943</td>\n",
       "      <td>40.754051</td>\n",
       "      <td>40.768481</td>\n",
       "      <td>40.892353</td>\n",
       "    </tr>\n",
       "    <tr>\n",
       "      <th>passenger_count</th>\n",
       "      <td>240988.0</td>\n",
       "      <td>1.683988</td>\n",
       "      <td>1.309181</td>\n",
       "      <td>0.000000</td>\n",
       "      <td>1.000000</td>\n",
       "      <td>1.000000</td>\n",
       "      <td>2.000000</td>\n",
       "      <td>6.000000</td>\n",
       "    </tr>\n",
       "    <tr>\n",
       "      <th>pickup_dayofweek</th>\n",
       "      <td>240988.0</td>\n",
       "      <td>3.034342</td>\n",
       "      <td>1.950924</td>\n",
       "      <td>0.000000</td>\n",
       "      <td>1.000000</td>\n",
       "      <td>3.000000</td>\n",
       "      <td>5.000000</td>\n",
       "      <td>6.000000</td>\n",
       "    </tr>\n",
       "    <tr>\n",
       "      <th>pickup_hour</th>\n",
       "      <td>240988.0</td>\n",
       "      <td>13.527441</td>\n",
       "      <td>6.506407</td>\n",
       "      <td>0.000000</td>\n",
       "      <td>9.000000</td>\n",
       "      <td>14.000000</td>\n",
       "      <td>19.000000</td>\n",
       "      <td>23.000000</td>\n",
       "    </tr>\n",
       "    <tr>\n",
       "      <th>pickup_year</th>\n",
       "      <td>240988.0</td>\n",
       "      <td>2011.744655</td>\n",
       "      <td>1.866323</td>\n",
       "      <td>2009.000000</td>\n",
       "      <td>2010.000000</td>\n",
       "      <td>2012.000000</td>\n",
       "      <td>2013.000000</td>\n",
       "      <td>2015.000000</td>\n",
       "    </tr>\n",
       "    <tr>\n",
       "      <th>pickup_month</th>\n",
       "      <td>240988.0</td>\n",
       "      <td>6.261237</td>\n",
       "      <td>3.439839</td>\n",
       "      <td>1.000000</td>\n",
       "      <td>3.000000</td>\n",
       "      <td>6.000000</td>\n",
       "      <td>9.000000</td>\n",
       "      <td>12.000000</td>\n",
       "    </tr>\n",
       "    <tr>\n",
       "      <th>pickup_quarter</th>\n",
       "      <td>240988.0</td>\n",
       "      <td>2.421469</td>\n",
       "      <td>1.116588</td>\n",
       "      <td>1.000000</td>\n",
       "      <td>1.000000</td>\n",
       "      <td>2.000000</td>\n",
       "      <td>3.000000</td>\n",
       "      <td>4.000000</td>\n",
       "    </tr>\n",
       "    <tr>\n",
       "      <th>distance</th>\n",
       "      <td>240988.0</td>\n",
       "      <td>3.300773</td>\n",
       "      <td>3.462584</td>\n",
       "      <td>0.000084</td>\n",
       "      <td>1.278869</td>\n",
       "      <td>2.168163</td>\n",
       "      <td>3.907070</td>\n",
       "      <td>29.439792</td>\n",
       "    </tr>\n",
       "    <tr>\n",
       "      <th>pickup_dist_Manhattan</th>\n",
       "      <td>240988.0</td>\n",
       "      <td>4.491855</td>\n",
       "      <td>3.211804</td>\n",
       "      <td>0.082493</td>\n",
       "      <td>2.300723</td>\n",
       "      <td>3.888863</td>\n",
       "      <td>5.968179</td>\n",
       "      <td>26.722607</td>\n",
       "    </tr>\n",
       "    <tr>\n",
       "      <th>pickup_dist_Brooklyn</th>\n",
       "      <td>240988.0</td>\n",
       "      <td>14.558349</td>\n",
       "      <td>2.386024</td>\n",
       "      <td>0.115113</td>\n",
       "      <td>13.050126</td>\n",
       "      <td>14.581677</td>\n",
       "      <td>16.014646</td>\n",
       "      <td>29.316423</td>\n",
       "    </tr>\n",
       "    <tr>\n",
       "      <th>pickup_dist_Queens</th>\n",
       "      <td>240988.0</td>\n",
       "      <td>9.880307</td>\n",
       "      <td>1.844043</td>\n",
       "      <td>0.277276</td>\n",
       "      <td>8.973348</td>\n",
       "      <td>10.074067</td>\n",
       "      <td>10.823254</td>\n",
       "      <td>19.827406</td>\n",
       "    </tr>\n",
       "    <tr>\n",
       "      <th>pickup_dist_The_Bronx</th>\n",
       "      <td>240988.0</td>\n",
       "      <td>12.521353</td>\n",
       "      <td>2.988447</td>\n",
       "      <td>0.446261</td>\n",
       "      <td>10.607760</td>\n",
       "      <td>12.372290</td>\n",
       "      <td>14.447885</td>\n",
       "      <td>28.928825</td>\n",
       "    </tr>\n",
       "    <tr>\n",
       "      <th>pickup_dist_Staten_Island</th>\n",
       "      <td>240988.0</td>\n",
       "      <td>24.754878</td>\n",
       "      <td>3.027741</td>\n",
       "      <td>11.364084</td>\n",
       "      <td>22.560918</td>\n",
       "      <td>24.631084</td>\n",
       "      <td>26.601274</td>\n",
       "      <td>40.866689</td>\n",
       "    </tr>\n",
       "    <tr>\n",
       "      <th>dropoff_dist_Manhattan</th>\n",
       "      <td>240988.0</td>\n",
       "      <td>4.588575</td>\n",
       "      <td>3.210070</td>\n",
       "      <td>0.083423</td>\n",
       "      <td>2.314284</td>\n",
       "      <td>3.910563</td>\n",
       "      <td>6.117634</td>\n",
       "      <td>28.170451</td>\n",
       "    </tr>\n",
       "    <tr>\n",
       "      <th>dropoff_dist_Brooklyn</th>\n",
       "      <td>240988.0</td>\n",
       "      <td>14.557814</td>\n",
       "      <td>2.943101</td>\n",
       "      <td>0.308134</td>\n",
       "      <td>12.967479</td>\n",
       "      <td>14.650572</td>\n",
       "      <td>16.170013</td>\n",
       "      <td>29.970185</td>\n",
       "    </tr>\n",
       "    <tr>\n",
       "      <th>dropoff_dist_Queens</th>\n",
       "      <td>240988.0</td>\n",
       "      <td>9.853433</td>\n",
       "      <td>1.936139</td>\n",
       "      <td>0.114624</td>\n",
       "      <td>8.908815</td>\n",
       "      <td>10.010104</td>\n",
       "      <td>10.824360</td>\n",
       "      <td>19.997449</td>\n",
       "    </tr>\n",
       "    <tr>\n",
       "      <th>dropoff_dist_The_Bronx</th>\n",
       "      <td>240988.0</td>\n",
       "      <td>12.417017</td>\n",
       "      <td>3.222032</td>\n",
       "      <td>0.058394</td>\n",
       "      <td>10.335598</td>\n",
       "      <td>12.269199</td>\n",
       "      <td>14.447341</td>\n",
       "      <td>29.456685</td>\n",
       "    </tr>\n",
       "    <tr>\n",
       "      <th>dropoff_dist_Staten_Island</th>\n",
       "      <td>240988.0</td>\n",
       "      <td>24.848209</td>\n",
       "      <td>3.354262</td>\n",
       "      <td>10.967299</td>\n",
       "      <td>22.588263</td>\n",
       "      <td>24.695108</td>\n",
       "      <td>26.876861</td>\n",
       "      <td>40.988607</td>\n",
       "    </tr>\n",
       "  </tbody>\n",
       "</table>\n",
       "</div>"
      ],
      "text/plain": [
       "                               count         mean       std          min  \\\n",
       "fare_amount                 240988.0    11.134943  8.841618     0.010000   \n",
       "pickup_longitude            240988.0   -73.975522  0.034018   -74.094487   \n",
       "pickup_latitude             240988.0    40.750895  0.026545    40.585559   \n",
       "dropoff_longitude           240988.0   -73.974439  0.032119   -74.096357   \n",
       "dropoff_latitude            240988.0    40.751484  0.029920    40.572824   \n",
       "passenger_count             240988.0     1.683988  1.309181     0.000000   \n",
       "pickup_dayofweek            240988.0     3.034342  1.950924     0.000000   \n",
       "pickup_hour                 240988.0    13.527441  6.506407     0.000000   \n",
       "pickup_year                 240988.0  2011.744655  1.866323  2009.000000   \n",
       "pickup_month                240988.0     6.261237  3.439839     1.000000   \n",
       "pickup_quarter              240988.0     2.421469  1.116588     1.000000   \n",
       "distance                    240988.0     3.300773  3.462584     0.000084   \n",
       "pickup_dist_Manhattan       240988.0     4.491855  3.211804     0.082493   \n",
       "pickup_dist_Brooklyn        240988.0    14.558349  2.386024     0.115113   \n",
       "pickup_dist_Queens          240988.0     9.880307  1.844043     0.277276   \n",
       "pickup_dist_The_Bronx       240988.0    12.521353  2.988447     0.446261   \n",
       "pickup_dist_Staten_Island   240988.0    24.754878  3.027741    11.364084   \n",
       "dropoff_dist_Manhattan      240988.0     4.588575  3.210070     0.083423   \n",
       "dropoff_dist_Brooklyn       240988.0    14.557814  2.943101     0.308134   \n",
       "dropoff_dist_Queens         240988.0     9.853433  1.936139     0.114624   \n",
       "dropoff_dist_The_Bronx      240988.0    12.417017  3.222032     0.058394   \n",
       "dropoff_dist_Staten_Island  240988.0    24.848209  3.354262    10.967299   \n",
       "\n",
       "                                    25%          50%          75%          max  \n",
       "fare_amount                    6.000000     8.500000    12.500000    63.500000  \n",
       "pickup_longitude             -73.992258   -73.982113   -73.968445   -73.682678  \n",
       "pickup_latitude               40.736566    40.753382    40.767525    40.886142  \n",
       "dropoff_longitude            -73.991517   -73.980517   -73.965353   -73.687312  \n",
       "dropoff_latitude              40.735943    40.754051    40.768481    40.892353  \n",
       "passenger_count                1.000000     1.000000     2.000000     6.000000  \n",
       "pickup_dayofweek               1.000000     3.000000     5.000000     6.000000  \n",
       "pickup_hour                    9.000000    14.000000    19.000000    23.000000  \n",
       "pickup_year                 2010.000000  2012.000000  2013.000000  2015.000000  \n",
       "pickup_month                   3.000000     6.000000     9.000000    12.000000  \n",
       "pickup_quarter                 1.000000     2.000000     3.000000     4.000000  \n",
       "distance                       1.278869     2.168163     3.907070    29.439792  \n",
       "pickup_dist_Manhattan          2.300723     3.888863     5.968179    26.722607  \n",
       "pickup_dist_Brooklyn          13.050126    14.581677    16.014646    29.316423  \n",
       "pickup_dist_Queens             8.973348    10.074067    10.823254    19.827406  \n",
       "pickup_dist_The_Bronx         10.607760    12.372290    14.447885    28.928825  \n",
       "pickup_dist_Staten_Island     22.560918    24.631084    26.601274    40.866689  \n",
       "dropoff_dist_Manhattan         2.314284     3.910563     6.117634    28.170451  \n",
       "dropoff_dist_Brooklyn         12.967479    14.650572    16.170013    29.970185  \n",
       "dropoff_dist_Queens            8.908815    10.010104    10.824360    19.997449  \n",
       "dropoff_dist_The_Bronx        10.335598    12.269199    14.447341    29.456685  \n",
       "dropoff_dist_Staten_Island    22.588263    24.695108    26.876861    40.988607  "
      ]
     },
     "execution_count": 39,
     "metadata": {},
     "output_type": "execute_result"
    }
   ],
   "source": [
    "df.describe().T"
   ]
  },
  {
   "cell_type": "code",
   "execution_count": 40,
   "metadata": {
    "ExecuteTime": {
     "end_time": "2020-09-14T06:19:50.804410Z",
     "start_time": "2020-09-14T06:19:50.780972Z"
    },
    "hidden": true
   },
   "outputs": [
    {
     "data": {
      "text/html": [
       "<div>\n",
       "<style scoped>\n",
       "    .dataframe tbody tr th:only-of-type {\n",
       "        vertical-align: middle;\n",
       "    }\n",
       "\n",
       "    .dataframe tbody tr th {\n",
       "        vertical-align: top;\n",
       "    }\n",
       "\n",
       "    .dataframe thead th {\n",
       "        text-align: right;\n",
       "    }\n",
       "</style>\n",
       "<table border=\"1\" class=\"dataframe\">\n",
       "  <thead>\n",
       "    <tr style=\"text-align: right;\">\n",
       "      <th></th>\n",
       "      <th>0</th>\n",
       "      <th>1</th>\n",
       "      <th>2</th>\n",
       "      <th>3</th>\n",
       "      <th>4</th>\n",
       "    </tr>\n",
       "  </thead>\n",
       "  <tbody>\n",
       "    <tr>\n",
       "      <th>key</th>\n",
       "      <td>2014-05-19 22:49:39.0000003</td>\n",
       "      <td>2014-05-13 08:18:00.000000163</td>\n",
       "      <td>2011-06-30 15:50:59.0000002</td>\n",
       "      <td>2011-02-07 16:00:00.00000066</td>\n",
       "      <td>2011-05-07 01:22:00.00000081</td>\n",
       "    </tr>\n",
       "    <tr>\n",
       "      <th>fare_amount</th>\n",
       "      <td>20.5</td>\n",
       "      <td>30</td>\n",
       "      <td>24.1</td>\n",
       "      <td>9.3</td>\n",
       "      <td>9.3</td>\n",
       "    </tr>\n",
       "    <tr>\n",
       "      <th>pickup_datetime</th>\n",
       "      <td>2014-05-19 22:49:39+00:00</td>\n",
       "      <td>2014-05-13 08:18:00+00:00</td>\n",
       "      <td>2011-06-30 15:50:59+00:00</td>\n",
       "      <td>2011-02-07 16:00:00+00:00</td>\n",
       "      <td>2011-05-07 01:22:00+00:00</td>\n",
       "    </tr>\n",
       "    <tr>\n",
       "      <th>pickup_longitude</th>\n",
       "      <td>-73.9855</td>\n",
       "      <td>-73.9707</td>\n",
       "      <td>-73.9677</td>\n",
       "      <td>-73.9898</td>\n",
       "      <td>-73.9803</td>\n",
       "    </tr>\n",
       "    <tr>\n",
       "      <th>pickup_latitude</th>\n",
       "      <td>40.7385</td>\n",
       "      <td>40.7585</td>\n",
       "      <td>40.7563</td>\n",
       "      <td>40.7342</td>\n",
       "      <td>40.6901</td>\n",
       "    </tr>\n",
       "    <tr>\n",
       "      <th>dropoff_longitude</th>\n",
       "      <td>-73.9749</td>\n",
       "      <td>-73.9379</td>\n",
       "      <td>-73.9754</td>\n",
       "      <td>-73.9972</td>\n",
       "      <td>-73.9565</td>\n",
       "    </tr>\n",
       "    <tr>\n",
       "      <th>dropoff_latitude</th>\n",
       "      <td>40.7931</td>\n",
       "      <td>40.8482</td>\n",
       "      <td>40.676</td>\n",
       "      <td>40.7563</td>\n",
       "      <td>40.6569</td>\n",
       "    </tr>\n",
       "    <tr>\n",
       "      <th>passenger_count</th>\n",
       "      <td>4</td>\n",
       "      <td>2</td>\n",
       "      <td>1</td>\n",
       "      <td>3</td>\n",
       "      <td>5</td>\n",
       "    </tr>\n",
       "    <tr>\n",
       "      <th>pickup_dayofweek</th>\n",
       "      <td>0</td>\n",
       "      <td>1</td>\n",
       "      <td>3</td>\n",
       "      <td>0</td>\n",
       "      <td>5</td>\n",
       "    </tr>\n",
       "    <tr>\n",
       "      <th>pickup_hour</th>\n",
       "      <td>22</td>\n",
       "      <td>8</td>\n",
       "      <td>15</td>\n",
       "      <td>16</td>\n",
       "      <td>1</td>\n",
       "    </tr>\n",
       "    <tr>\n",
       "      <th>pickup_year</th>\n",
       "      <td>2014</td>\n",
       "      <td>2014</td>\n",
       "      <td>2011</td>\n",
       "      <td>2011</td>\n",
       "      <td>2011</td>\n",
       "    </tr>\n",
       "    <tr>\n",
       "      <th>pickup_month</th>\n",
       "      <td>5</td>\n",
       "      <td>5</td>\n",
       "      <td>6</td>\n",
       "      <td>2</td>\n",
       "      <td>5</td>\n",
       "    </tr>\n",
       "    <tr>\n",
       "      <th>is_weekend</th>\n",
       "      <td>False</td>\n",
       "      <td>False</td>\n",
       "      <td>False</td>\n",
       "      <td>False</td>\n",
       "      <td>False</td>\n",
       "    </tr>\n",
       "    <tr>\n",
       "      <th>is_night</th>\n",
       "      <td>True</td>\n",
       "      <td>False</td>\n",
       "      <td>False</td>\n",
       "      <td>False</td>\n",
       "      <td>True</td>\n",
       "    </tr>\n",
       "    <tr>\n",
       "      <th>pickup_quarter</th>\n",
       "      <td>2</td>\n",
       "      <td>2</td>\n",
       "      <td>2</td>\n",
       "      <td>1</td>\n",
       "      <td>2</td>\n",
       "    </tr>\n",
       "    <tr>\n",
       "      <th>distance</th>\n",
       "      <td>6.1347</td>\n",
       "      <td>10.3492</td>\n",
       "      <td>8.95798</td>\n",
       "      <td>2.53148</td>\n",
       "      <td>4.19788</td>\n",
       "    </tr>\n",
       "    <tr>\n",
       "      <th>pickup_dist_Manhattan</th>\n",
       "      <td>5.2291</td>\n",
       "      <td>2.78282</td>\n",
       "      <td>3.00262</td>\n",
       "      <td>5.80116</td>\n",
       "      <td>10.4352</td>\n",
       "    </tr>\n",
       "    <tr>\n",
       "      <th>pickup_dist_Brooklyn</th>\n",
       "      <td>12.9603</td>\n",
       "      <td>14.9568</td>\n",
       "      <td>14.6934</td>\n",
       "      <td>12.5769</td>\n",
       "      <td>7.6404</td>\n",
       "    </tr>\n",
       "    <tr>\n",
       "      <th>pickup_dist_Queens</th>\n",
       "      <td>10.09</td>\n",
       "      <td>8.81679</td>\n",
       "      <td>8.53892</td>\n",
       "      <td>10.5193</td>\n",
       "      <td>11.6661</td>\n",
       "    </tr>\n",
       "    <tr>\n",
       "      <th>pickup_dist_The_Bronx</th>\n",
       "      <td>13.8001</td>\n",
       "      <td>11.286</td>\n",
       "      <td>11.3157</td>\n",
       "      <td>14.4026</td>\n",
       "      <td>18.1846</td>\n",
       "    </tr>\n",
       "    <tr>\n",
       "      <th>pickup_dist_Staten_Island</th>\n",
       "      <td>22.9913</td>\n",
       "      <td>25.5183</td>\n",
       "      <td>25.4755</td>\n",
       "      <td>22.3888</td>\n",
       "      <td>19.2433</td>\n",
       "    </tr>\n",
       "    <tr>\n",
       "      <th>dropoff_dist_Manhattan</th>\n",
       "      <td>1.28692</td>\n",
       "      <td>7.60716</td>\n",
       "      <td>11.9585</td>\n",
       "      <td>3.95832</td>\n",
       "      <td>14.0877</td>\n",
       "    </tr>\n",
       "    <tr>\n",
       "      <th>dropoff_dist_Brooklyn</th>\n",
       "      <td>18.8197</td>\n",
       "      <td>24.8778</td>\n",
       "      <td>6.02578</td>\n",
       "      <td>15.1083</td>\n",
       "      <td>3.59341</td>\n",
       "    </tr>\n",
       "    <tr>\n",
       "      <th>dropoff_dist_Queens</th>\n",
       "      <td>10.2952</td>\n",
       "      <td>12.4565</td>\n",
       "      <td>12.3149</td>\n",
       "      <td>11.0148</td>\n",
       "      <td>12.8306</td>\n",
       "    </tr>\n",
       "    <tr>\n",
       "      <th>dropoff_dist_The_Bronx</th>\n",
       "      <td>8.9367</td>\n",
       "      <td>4.52422</td>\n",
       "      <td>19.4406</td>\n",
       "      <td>12.9795</td>\n",
       "      <td>20.9132</td>\n",
       "    </tr>\n",
       "    <tr>\n",
       "      <th>dropoff_dist_Staten_Island</th>\n",
       "      <td>28.5528</td>\n",
       "      <td>35.4118</td>\n",
       "      <td>18.5349</td>\n",
       "      <td>24.0745</td>\n",
       "      <td>18.6411</td>\n",
       "    </tr>\n",
       "    <tr>\n",
       "      <th>pickup_closest</th>\n",
       "      <td>Manhattan</td>\n",
       "      <td>Manhattan</td>\n",
       "      <td>Manhattan</td>\n",
       "      <td>Manhattan</td>\n",
       "      <td>Brooklyn</td>\n",
       "    </tr>\n",
       "    <tr>\n",
       "      <th>dropoff_closest</th>\n",
       "      <td>Manhattan</td>\n",
       "      <td>The_Bronx</td>\n",
       "      <td>Brooklyn</td>\n",
       "      <td>Manhattan</td>\n",
       "      <td>Brooklyn</td>\n",
       "    </tr>\n",
       "    <tr>\n",
       "      <th>is_cross_borough</th>\n",
       "      <td>False</td>\n",
       "      <td>True</td>\n",
       "      <td>True</td>\n",
       "      <td>False</td>\n",
       "      <td>False</td>\n",
       "    </tr>\n",
       "  </tbody>\n",
       "</table>\n",
       "</div>"
      ],
      "text/plain": [
       "                                                      0  \\\n",
       "key                         2014-05-19 22:49:39.0000003   \n",
       "fare_amount                                        20.5   \n",
       "pickup_datetime               2014-05-19 22:49:39+00:00   \n",
       "pickup_longitude                               -73.9855   \n",
       "pickup_latitude                                 40.7385   \n",
       "dropoff_longitude                              -73.9749   \n",
       "dropoff_latitude                                40.7931   \n",
       "passenger_count                                       4   \n",
       "pickup_dayofweek                                      0   \n",
       "pickup_hour                                          22   \n",
       "pickup_year                                        2014   \n",
       "pickup_month                                          5   \n",
       "is_weekend                                        False   \n",
       "is_night                                           True   \n",
       "pickup_quarter                                        2   \n",
       "distance                                         6.1347   \n",
       "pickup_dist_Manhattan                            5.2291   \n",
       "pickup_dist_Brooklyn                            12.9603   \n",
       "pickup_dist_Queens                                10.09   \n",
       "pickup_dist_The_Bronx                           13.8001   \n",
       "pickup_dist_Staten_Island                       22.9913   \n",
       "dropoff_dist_Manhattan                          1.28692   \n",
       "dropoff_dist_Brooklyn                           18.8197   \n",
       "dropoff_dist_Queens                             10.2952   \n",
       "dropoff_dist_The_Bronx                           8.9367   \n",
       "dropoff_dist_Staten_Island                      28.5528   \n",
       "pickup_closest                                Manhattan   \n",
       "dropoff_closest                               Manhattan   \n",
       "is_cross_borough                                  False   \n",
       "\n",
       "                                                        1  \\\n",
       "key                         2014-05-13 08:18:00.000000163   \n",
       "fare_amount                                            30   \n",
       "pickup_datetime                 2014-05-13 08:18:00+00:00   \n",
       "pickup_longitude                                 -73.9707   \n",
       "pickup_latitude                                   40.7585   \n",
       "dropoff_longitude                                -73.9379   \n",
       "dropoff_latitude                                  40.8482   \n",
       "passenger_count                                         2   \n",
       "pickup_dayofweek                                        1   \n",
       "pickup_hour                                             8   \n",
       "pickup_year                                          2014   \n",
       "pickup_month                                            5   \n",
       "is_weekend                                          False   \n",
       "is_night                                            False   \n",
       "pickup_quarter                                          2   \n",
       "distance                                          10.3492   \n",
       "pickup_dist_Manhattan                             2.78282   \n",
       "pickup_dist_Brooklyn                              14.9568   \n",
       "pickup_dist_Queens                                8.81679   \n",
       "pickup_dist_The_Bronx                              11.286   \n",
       "pickup_dist_Staten_Island                         25.5183   \n",
       "dropoff_dist_Manhattan                            7.60716   \n",
       "dropoff_dist_Brooklyn                             24.8778   \n",
       "dropoff_dist_Queens                               12.4565   \n",
       "dropoff_dist_The_Bronx                            4.52422   \n",
       "dropoff_dist_Staten_Island                        35.4118   \n",
       "pickup_closest                                  Manhattan   \n",
       "dropoff_closest                                 The_Bronx   \n",
       "is_cross_borough                                     True   \n",
       "\n",
       "                                                      2  \\\n",
       "key                         2011-06-30 15:50:59.0000002   \n",
       "fare_amount                                        24.1   \n",
       "pickup_datetime               2011-06-30 15:50:59+00:00   \n",
       "pickup_longitude                               -73.9677   \n",
       "pickup_latitude                                 40.7563   \n",
       "dropoff_longitude                              -73.9754   \n",
       "dropoff_latitude                                 40.676   \n",
       "passenger_count                                       1   \n",
       "pickup_dayofweek                                      3   \n",
       "pickup_hour                                          15   \n",
       "pickup_year                                        2011   \n",
       "pickup_month                                          6   \n",
       "is_weekend                                        False   \n",
       "is_night                                          False   \n",
       "pickup_quarter                                        2   \n",
       "distance                                        8.95798   \n",
       "pickup_dist_Manhattan                           3.00262   \n",
       "pickup_dist_Brooklyn                            14.6934   \n",
       "pickup_dist_Queens                              8.53892   \n",
       "pickup_dist_The_Bronx                           11.3157   \n",
       "pickup_dist_Staten_Island                       25.4755   \n",
       "dropoff_dist_Manhattan                          11.9585   \n",
       "dropoff_dist_Brooklyn                           6.02578   \n",
       "dropoff_dist_Queens                             12.3149   \n",
       "dropoff_dist_The_Bronx                          19.4406   \n",
       "dropoff_dist_Staten_Island                      18.5349   \n",
       "pickup_closest                                Manhattan   \n",
       "dropoff_closest                                Brooklyn   \n",
       "is_cross_borough                                   True   \n",
       "\n",
       "                                                       3  \\\n",
       "key                         2011-02-07 16:00:00.00000066   \n",
       "fare_amount                                          9.3   \n",
       "pickup_datetime                2011-02-07 16:00:00+00:00   \n",
       "pickup_longitude                                -73.9898   \n",
       "pickup_latitude                                  40.7342   \n",
       "dropoff_longitude                               -73.9972   \n",
       "dropoff_latitude                                 40.7563   \n",
       "passenger_count                                        3   \n",
       "pickup_dayofweek                                       0   \n",
       "pickup_hour                                           16   \n",
       "pickup_year                                         2011   \n",
       "pickup_month                                           2   \n",
       "is_weekend                                         False   \n",
       "is_night                                           False   \n",
       "pickup_quarter                                         1   \n",
       "distance                                         2.53148   \n",
       "pickup_dist_Manhattan                            5.80116   \n",
       "pickup_dist_Brooklyn                             12.5769   \n",
       "pickup_dist_Queens                               10.5193   \n",
       "pickup_dist_The_Bronx                            14.4026   \n",
       "pickup_dist_Staten_Island                        22.3888   \n",
       "dropoff_dist_Manhattan                           3.95832   \n",
       "dropoff_dist_Brooklyn                            15.1083   \n",
       "dropoff_dist_Queens                              11.0148   \n",
       "dropoff_dist_The_Bronx                           12.9795   \n",
       "dropoff_dist_Staten_Island                       24.0745   \n",
       "pickup_closest                                 Manhattan   \n",
       "dropoff_closest                                Manhattan   \n",
       "is_cross_borough                                   False   \n",
       "\n",
       "                                                       4  \n",
       "key                         2011-05-07 01:22:00.00000081  \n",
       "fare_amount                                          9.3  \n",
       "pickup_datetime                2011-05-07 01:22:00+00:00  \n",
       "pickup_longitude                                -73.9803  \n",
       "pickup_latitude                                  40.6901  \n",
       "dropoff_longitude                               -73.9565  \n",
       "dropoff_latitude                                 40.6569  \n",
       "passenger_count                                        5  \n",
       "pickup_dayofweek                                       5  \n",
       "pickup_hour                                            1  \n",
       "pickup_year                                         2011  \n",
       "pickup_month                                           5  \n",
       "is_weekend                                         False  \n",
       "is_night                                            True  \n",
       "pickup_quarter                                         2  \n",
       "distance                                         4.19788  \n",
       "pickup_dist_Manhattan                            10.4352  \n",
       "pickup_dist_Brooklyn                              7.6404  \n",
       "pickup_dist_Queens                               11.6661  \n",
       "pickup_dist_The_Bronx                            18.1846  \n",
       "pickup_dist_Staten_Island                        19.2433  \n",
       "dropoff_dist_Manhattan                           14.0877  \n",
       "dropoff_dist_Brooklyn                            3.59341  \n",
       "dropoff_dist_Queens                              12.8306  \n",
       "dropoff_dist_The_Bronx                           20.9132  \n",
       "dropoff_dist_Staten_Island                       18.6411  \n",
       "pickup_closest                                  Brooklyn  \n",
       "dropoff_closest                                 Brooklyn  \n",
       "is_cross_borough                                   False  "
      ]
     },
     "execution_count": 40,
     "metadata": {},
     "output_type": "execute_result"
    }
   ],
   "source": [
    "df.head().T"
   ]
  },
  {
   "cell_type": "markdown",
   "metadata": {},
   "source": [
    "# 3. Models Comparisons"
   ]
  },
  {
   "cell_type": "markdown",
   "metadata": {},
   "source": [
    "In this section, I'll finally try some model!  \n",
    "I'm going to try the traditional models, and some tree-based models. No deep-learning allowed."
   ]
  },
  {
   "cell_type": "markdown",
   "metadata": {},
   "source": [
    "In order to be able to run several models in a row, I'll build a generic pipline, which reproduce the process we've done together in the previous section.  \n",
    "In the first step we need to build the preprocessing and the feature engineering stages."
   ]
  },
  {
   "cell_type": "markdown",
   "metadata": {},
   "source": [
    "## 3.1 Preprocessing Pipeline"
   ]
  },
  {
   "cell_type": "markdown",
   "metadata": {},
   "source": [
    "First, we need to get familiar with some terms:  \n",
    "- `Pipline`: A defined set of functionalities, performed sequentially, represents our process\n",
    "- `Transformer`: A transformation function - gets matrix (or vector) a and returns b. We use transformers to apply the feature engineering tricks and buildups\n",
    "- `FeatureUnion`: Each transformer return a subset of the total feature we want to train the model on, so the FeatureUnion collects all these features and stack them to singel structure"
   ]
  },
  {
   "cell_type": "markdown",
   "metadata": {},
   "source": [
    "### 3.1.1 Bypass Transformer"
   ]
  },
  {
   "cell_type": "code",
   "execution_count": 155,
   "metadata": {
    "ExecuteTime": {
     "end_time": "2020-09-14T07:52:15.187970Z",
     "start_time": "2020-09-14T07:52:15.183185Z"
    }
   },
   "outputs": [],
   "source": [
    "from sklearn.base import BaseEstimator, TransformerMixin\n",
    "\n",
    "class ByPassTransformer(BaseEstimator, TransformerMixin):\n",
    "    def __init__(self, cols):\n",
    "        self.cols = cols\n",
    "    \n",
    "    def fit(self, X, y=None):\n",
    "        return self\n",
    "    \n",
    "    def transform(self, X):\n",
    "        return X[:, self.cols].reshape(-1,1)"
   ]
  },
  {
   "cell_type": "markdown",
   "metadata": {},
   "source": [
    "In this transformer, we just bypass the features we don't want to change."
   ]
  },
  {
   "cell_type": "markdown",
   "metadata": {},
   "source": [
    "### 3.1.2 Date Features Transformer"
   ]
  },
  {
   "cell_type": "code",
   "execution_count": 42,
   "metadata": {
    "ExecuteTime": {
     "end_time": "2020-09-14T06:19:50.833142Z",
     "start_time": "2020-09-14T06:19:50.824425Z"
    }
   },
   "outputs": [],
   "source": [
    "class DateTransformer(BaseEstimator, TransformerMixin):\n",
    "    \n",
    "    def __init__(self, col):\n",
    "        self.col = col\n",
    "    \n",
    "    def fit(self, X, y=None):\n",
    "        return self\n",
    "    \n",
    "    def transform(self, X):\n",
    "        dates = pd.to_datetime(X[:, self.col])\n",
    "        years = dates.year.values.reshape(-1,1)\n",
    "        months = dates.month.values.reshape(-1,1)\n",
    "        dayofweeks = dates.dayofweek.values.reshape(-1,1)\n",
    "        hours = dates.hour.values.reshape(-1,1)\n",
    "        quarters = dates.quarter.values.reshape(-1,1)\n",
    "        is_weekend = self.is_weekend(dayofweeks)\n",
    "        is_night = self.is_night(hours)\n",
    "        return np.concatenate([years, months, dayofweeks, hours, quarters, is_weekend, is_night], axis=1) \n",
    "    \n",
    "    def is_weekend(self, day):\n",
    "        return (day >= 6).astype(int) # 6 = Saturday and 7 = Sunday\n",
    "    \n",
    "    def is_night(self, hour):\n",
    "        return (np.logical_or((hour >= 20),(hour <= 6))).astype(int)"
   ]
  },
  {
   "cell_type": "markdown",
   "metadata": {},
   "source": [
    "### 3.1.3 Location Features Transformer"
   ]
  },
  {
   "cell_type": "code",
   "execution_count": 157,
   "metadata": {
    "ExecuteTime": {
     "end_time": "2020-09-14T07:52:38.846865Z",
     "start_time": "2020-09-14T07:52:38.831599Z"
    }
   },
   "outputs": [],
   "source": [
    "class LocationTransformer(BaseEstimator, TransformerMixin):\n",
    "    def __init__(self, cols, boroughs_means, mode='ovo'):\n",
    "        self.cols = cols\n",
    "        self.boroughs_means = boroughs_means\n",
    "        self.mode = mode\n",
    "    \n",
    "    def fit(self, x_loc, y=None):\n",
    "        return self\n",
    "    \n",
    "    def transform(self, X):\n",
    "        x_loc = X[:, self.cols].astype(float)\n",
    "        features = []\n",
    "        distances = self.haversine(x_loc).reshape(-1,1)\n",
    "        features.append(distances)\n",
    "        \n",
    "        distances_from_pickup_to_boroughs = np.apply_along_axis(multiple_haversine, 1,\n",
    "                                                                x_loc[:,:2], dsts=self.boroughs_means.values())\n",
    "        \n",
    "        distances_from_dropoff_to_boroughs = np.apply_along_axis(multiple_haversine, 1,\n",
    "                                                                 x_loc[:,2:], dsts=self.boroughs_means.values())\n",
    "        pickup_closest = distances_from_pickup_to_boroughs.argmin(axis=1)\n",
    "        dropoff_closest = distances_from_dropoff_to_boroughs.argmin(axis=1)\n",
    "        is_cross_boroughs = (pickup_closest == dropoff_closest).astype(int).reshape(-1,1)\n",
    "        \n",
    "        \n",
    "        if self.mode in ['all', 'ovo']:\n",
    "            features.append(distances_from_pickup_to_boroughs)\n",
    "            features.append(distances_from_dropoff_to_boroughs)\n",
    "            \n",
    "        if self.mode in ['all', 'cat']:\n",
    "            \n",
    "            pickup_closest = self.indices_to_one_hot(pickup_closest, len(self.boroughs_means))\n",
    "            \n",
    "            dropoff_closest = self.indices_to_one_hot(dropoff_closest, len(self.boroughs_means))\n",
    "            features.append(pickup_closest)\n",
    "            features.append(dropoff_closest)\n",
    "        \n",
    "        features.append(is_cross_boroughs)\n",
    "        \n",
    "        return np.concatenate(features, axis=1)\n",
    "        \n",
    "    \n",
    "    \n",
    "\n",
    "    def haversine(self, x_loc):\n",
    "        \"\"\"\n",
    "        Calculate the great circle distance between two points \n",
    "        on the earth (specified in decimal degrees)\n",
    "        \"\"\"\n",
    "        # convert decimal degrees to radians \n",
    "        lon1, lat1, lon2, lat2 = np.radians(x_loc).T\n",
    "\n",
    "        # haversine formula \n",
    "        dlon = lon2 - lon1 \n",
    "        dlat = lat2 - lat1 \n",
    "        a = np.sin(dlat/2)**2 + np.cos(lat1) * np.cos(lat2) * np.sin(dlon/2)**2\n",
    "        c = 2 * np.arcsin(np.sqrt(a)) \n",
    "        r = 6371 # Radius of earth in kilometers. Use 3956 for miles\n",
    "        return c * r\n",
    "    \n",
    "    def multiple_haversine(self, src, dsts):\n",
    "        return [self.haversine(*src, *dst) for dst in dsts]\n",
    "    \n",
    "    def indices_to_one_hot(self, data, nb_classes):\n",
    "        \"\"\"Convert an iterable of indices to one-hot encoded labels.\"\"\"\n",
    "        targets = np.array(data).reshape(-1)\n",
    "        return np.eye(nb_classes)[targets]"
   ]
  },
  {
   "cell_type": "markdown",
   "metadata": {},
   "source": [
    "In these transformers, we apply all the feature extractions and creation from [Section 2](#2.1-Times)"
   ]
  },
  {
   "cell_type": "markdown",
   "metadata": {},
   "source": [
    "### 3.1.4 Building the Pipeline"
   ]
  },
  {
   "cell_type": "markdown",
   "metadata": {},
   "source": [
    "Let's get another look at the original data the mark the indices of the features:"
   ]
  },
  {
   "cell_type": "code",
   "execution_count": 44,
   "metadata": {
    "ExecuteTime": {
     "end_time": "2020-09-14T06:19:50.865456Z",
     "start_time": "2020-09-14T06:19:50.851688Z"
    },
    "scrolled": true
   },
   "outputs": [
    {
     "data": {
      "text/plain": [
       "['key',\n",
       " 'fare_amount',\n",
       " 'pickup_datetime',\n",
       " 'pickup_longitude',\n",
       " 'pickup_latitude',\n",
       " 'dropoff_longitude',\n",
       " 'dropoff_latitude',\n",
       " 'passenger_count']"
      ]
     },
     "execution_count": 44,
     "metadata": {},
     "output_type": "execute_result"
    }
   ],
   "source": [
    "list(df.columns)[:8]"
   ]
  },
  {
   "cell_type": "code",
   "execution_count": 45,
   "metadata": {
    "ExecuteTime": {
     "end_time": "2020-09-14T06:19:50.883472Z",
     "start_time": "2020-09-14T06:19:50.867249Z"
    }
   },
   "outputs": [],
   "source": [
    "passenger_count_idx = 5\n",
    "date_idx = 0\n",
    "locations_idx = range(1,5)"
   ]
  },
  {
   "cell_type": "markdown",
   "metadata": {},
   "source": [
    "Note: the 'key' and 'fare_amount' columns will remove, so the count is from the pickup_datetime column"
   ]
  },
  {
   "cell_type": "markdown",
   "metadata": {
    "ExecuteTime": {
     "end_time": "2020-09-13T13:44:34.572557Z",
     "start_time": "2020-09-13T13:44:34.568676Z"
    }
   },
   "source": [
    "Now we can write done teh preprocessing pipline:"
   ]
  },
  {
   "cell_type": "code",
   "execution_count": 158,
   "metadata": {
    "ExecuteTime": {
     "end_time": "2020-09-14T07:52:44.387906Z",
     "start_time": "2020-09-14T07:52:44.383507Z"
    }
   },
   "outputs": [],
   "source": [
    "from sklearn.pipeline import Pipeline, FeatureUnion\n",
    "\n",
    "preprocess_pipeline = Pipeline([\n",
    "    ('feature_engineering', FeatureUnion([\n",
    "        ('date', DateTransformer(col=date_idx)),\n",
    "        ('location', LocationTransformer(cols=locations_idx, boroughs_means=boroughs_means)),\n",
    "        ('pssenger_count_bypass', ByPassTransformer(cols=passenger_count_idx))\n",
    "    ]))\n",
    "])"
   ]
  },
  {
   "cell_type": "markdown",
   "metadata": {},
   "source": [
    "For future steps, we'd like to save the features' names of the preprocessing pipeline's output:"
   ]
  },
  {
   "cell_type": "code",
   "execution_count": 176,
   "metadata": {
    "ExecuteTime": {
     "end_time": "2020-09-14T11:09:57.046173Z",
     "start_time": "2020-09-14T11:09:57.041966Z"
    }
   },
   "outputs": [],
   "source": [
    "preprocessing_features_names = [\n",
    "    'years', \n",
    "    'months', \n",
    "    'dayofweeks', \n",
    "    'hours', \n",
    "    'quarters', \n",
    "    'is_weekend', \n",
    "    'is_night',\n",
    "    'trip length'] \\\n",
    "+ [f'pickup_dist_{b.replace(\" \", \"_\")}' for b in boroughs_means.keys()] \\\n",
    "+ [f'dropoff_dist_{b.replace(\" \", \"_\")}' for b in boroughs_means.keys()] \\\n",
    "+ ['is_cross_boroughs']"
   ]
  },
  {
   "cell_type": "markdown",
   "metadata": {},
   "source": [
    "## 3.2 Models Execution"
   ]
  },
  {
   "cell_type": "markdown",
   "metadata": {},
   "source": [
    "Now we can move to the models!  \n",
    "We'd like to compare the following models:\n",
    "* Linear Regression\n",
    "* Random Forest\n",
    "* XGBoost\n",
    "* CatBoost"
   ]
  },
  {
   "cell_type": "markdown",
   "metadata": {},
   "source": [
    "### 3.2.1 Data arrangment"
   ]
  },
  {
   "cell_type": "code",
   "execution_count": 167,
   "metadata": {
    "ExecuteTime": {
     "end_time": "2020-09-14T08:36:54.552483Z",
     "start_time": "2020-09-14T08:36:54.545851Z"
    }
   },
   "outputs": [],
   "source": [
    "from sklearn.model_selection import train_test_split\n",
    "\n",
    "def arrange_data(mode='sample', df=None, path=None, delimiter=',', test_size=0.2, random_state=42 ):\n",
    "    if mode == 'sample':\n",
    "        X = df[['pickup_datetime', 'pickup_longitude', 'pickup_latitude', \n",
    "                'dropoff_longitude', 'dropoff_latitude', 'passenger_count']].to_numpy()\n",
    "        y = df['fare_amount'].to_numpy()\n",
    "    elif mode == 'all':\n",
    "        data = np.genfromtxt(path ,delimiter=delimiter, skip_header=1)\n",
    "        X = data[:, 2:]\n",
    "        y = data[:, 1]\n",
    "    \n",
    "    X_train, X_test, y_train, y_test = train_test_split(X, y, test_size=test_size, shuffle=True, random_state=random_state)\n",
    "    return X_train, X_test, y_train, y_test"
   ]
  },
  {
   "cell_type": "code",
   "execution_count": 169,
   "metadata": {
    "ExecuteTime": {
     "end_time": "2020-09-14T08:37:11.601555Z",
     "start_time": "2020-09-14T08:37:10.146766Z"
    },
    "scrolled": true
   },
   "outputs": [
    {
     "name": "stdout",
     "output_type": "stream",
     "text": [
      "(192790, 6) (192790,) (48198, 6) (48198,)\n"
     ]
    }
   ],
   "source": [
    "X_train, X_test, y_train, y_test = arrange_data(df=df)\n",
    "print(X_train.shape, y_train.shape, X_test.shape, y_test.shape)"
   ]
  },
  {
   "cell_type": "markdown",
   "metadata": {},
   "source": [
    "###  3.2.2 Run the pipeline"
   ]
  },
  {
   "cell_type": "code",
   "execution_count": 161,
   "metadata": {
    "ExecuteTime": {
     "end_time": "2020-09-14T08:35:48.131020Z",
     "start_time": "2020-09-14T08:27:12.544891Z"
    },
    "scrolled": false
   },
   "outputs": [
    {
     "name": "stdout",
     "output_type": "stream",
     "text": [
      "[08:27:21] WARNING: ../src/objective/regression_obj.cu:174: reg:linear is now deprecated in favor of reg:squarederror.\n",
      "[08:27:21] WARNING: ../src/objective/regression_obj.cu:174: reg:linear is now deprecated in favor of reg:squarederror.\n",
      "XGBRegressor(base_score=0.5, booster='gbtree', colsample_bylevel=1,\n",
      "             colsample_bynode=1, colsample_bytree=1, gamma=0, gpu_id=0,\n",
      "             importance_type='gain', interaction_constraints='',\n",
      "             learning_rate=0.300000012, max_delta_step=0, max_depth=6,\n",
      "             min_child_weight=1, missing=nan,\n",
      "             monotone_constraints='(0,0,0,0,0,0,0,0,0,0,0,0,0,0,0,0,0,0,0,0)',\n",
      "             n_estimators=100, n_jobs=0, num_parallel_tree=1,\n",
      "             objective='reg:linear', random_state=42, reg_alpha=0, reg_lambda=1,\n",
      "             scale_pos_weight=1, subsample=1, tree_method='gpu_hist',\n",
      "             validate_parameters=1, verbosity=None)\n",
      "XGBRegressor train score: 0.915\n",
      "XGBRegressor test score: 0.879\n",
      "LinearRegression(copy_X=True, fit_intercept=True, n_jobs=None, normalize=False)\n",
      "LinearRegression train score: 0.827\n",
      "LinearRegression test score: 0.826\n",
      "RandomForestRegressor(bootstrap=True, ccp_alpha=0.0, criterion='mse',\n",
      "                      max_depth=None, max_features='auto', max_leaf_nodes=None,\n",
      "                      max_samples=None, min_impurity_decrease=0.0,\n",
      "                      min_impurity_split=None, min_samples_leaf=1,\n",
      "                      min_samples_split=2, min_weight_fraction_leaf=0.0,\n",
      "                      n_estimators=100, n_jobs=None, oob_score=False,\n",
      "                      random_state=None, verbose=0, warm_start=False)\n",
      "RandomForestRegressor train score: 0.982\n",
      "RandomForestRegressor test score: 0.871\n",
      "<catboost.core.CatBoostRegressor object at 0x7f0a4d0d9d90>\n",
      "CatBoostRegressor train score: 0.867\n",
      "CatBoostRegressor test score: 0.859\n"
     ]
    }
   ],
   "source": [
    "from sklearn.ensemble import RandomForestRegressor\n",
    "from sklearn.linear_model import LinearRegression\n",
    "import xgboost as xgb\n",
    "from catboost import CatBoostRegressor\n",
    "\n",
    "regressors = [\n",
    "    xgb.XGBRegressor(objective=\"reg:linear\", random_state=42, tree_method='gpu_hist', gpu_id=0),\n",
    "    LinearRegression(),\n",
    "    RandomForestRegressor(),\n",
    "    CatBoostRegressor(task_type=\"GPU\", devices='0:1', verbose=0)\n",
    "    ]\n",
    "\n",
    "fitted_regressors = []\n",
    "scores = dict()\n",
    "\n",
    "for regressor in regressors:\n",
    "    pipe = Pipeline(steps=[('preprocessor', preprocess_pipeline),\n",
    "                      ('regressor', regressor)])\n",
    "    pipe.fit(X_train, y_train)\n",
    "    print(regressor)\n",
    "    fitted_regressors.append(regressor)\n",
    "    train_score = pipe.score(X_train, y_train)\n",
    "    test_score = pipe.score(X_test, y_test)\n",
    "    scores[type(regressor).__name__] = {'train': train_score, 'test': test_score}\n",
    "    print(f\"{type(regressor).__name__} train score: %.3f\" % train_score)\n",
    "    print(f\"{type(regressor).__name__} test score: %.3f\" % test_score)"
   ]
  },
  {
   "cell_type": "markdown",
   "metadata": {},
   "source": [
    "Let's find the feature importance:"
   ]
  },
  {
   "cell_type": "code",
   "execution_count": 186,
   "metadata": {
    "ExecuteTime": {
     "end_time": "2020-09-14T11:35:46.165267Z",
     "start_time": "2020-09-14T11:35:45.470303Z"
    }
   },
   "outputs": [
    {
     "data": {
      "text/plain": [
       "<matplotlib.axes._subplots.AxesSubplot at 0x7f0a4b6e3350>"
      ]
     },
     "execution_count": 186,
     "metadata": {},
     "output_type": "execute_result"
    },
    {
     "data": {
      "image/png": "[encoded data removed]",
      "text/plain": [
       "<Figure size 720x864 with 1 Axes>"
      ]
     },
     "metadata": {},
     "output_type": "display_data"
    }
   ],
   "source": [
    "from xgboost import plot_importance\n",
    "\n",
    "fig, ax = plt.subplots(1,1,figsize=(10,12))\n",
    "xgboost = fitted_regressors[0]\n",
    "xgboost.get_booster().feature_names = preprocessing_features_names\n",
    "plot_importance(xgboost, ax=ax)"
   ]
  },
  {
   "cell_type": "markdown",
   "metadata": {},
   "source": [
    "The Pipeline follows the global sklearn API: fit(), predict(), score(), etc."
   ]
  },
  {
   "cell_type": "markdown",
   "metadata": {},
   "source": [
    "### 3.2.3 Test various features"
   ]
  },
  {
   "cell_type": "markdown",
   "metadata": {},
   "source": [
    "We've got ~0.86 $R^2$ score.  \n",
    "In order to find the best parameters (we'll focus on the preprocessing parameters, and ignore the RamdomForestRegressor due to the boosted equivalents are better on large datasets), we'll run a `GridSearch`"
   ]
  },
  {
   "cell_type": "code",
   "execution_count": 211,
   "metadata": {
    "ExecuteTime": {
     "end_time": "2020-09-16T06:37:17.215286Z",
     "start_time": "2020-09-16T06:27:40.129697Z"
    },
    "scrolled": false
   },
   "outputs": [
    {
     "name": "stdout",
     "output_type": "stream",
     "text": [
      "XGBRegressor(base_score=None, booster=None, colsample_bylevel=None,\n",
      "             colsample_bynode=None, colsample_bytree=None, gamma=None, gpu_id=0,\n",
      "             importance_type='gain', interaction_constraints=None,\n",
      "             learning_rate=None, max_delta_step=None, max_depth=None,\n",
      "             min_child_weight=None, missing=nan, monotone_constraints=None,\n",
      "             n_estimators=100, n_jobs=None, num_parallel_tree=None,\n",
      "             objective='reg:squarederror', random_state=42, reg_alpha=None,\n",
      "             reg_lambda=None, scale_pos_weight=None, subsample=None,\n",
      "             tree_method='gpu_hist', validate_parameters=None, verbosity=None)\n",
      "XGBRegressor train score: 0.915\n",
      "XGBRegressor test score: 0.879\n",
      "{'preprocessor__feature_engineering__location__mode': 'ovo'}\n",
      "LinearRegression(copy_X=True, fit_intercept=True, n_jobs=None, normalize=False)\n",
      "LinearRegression train score: 0.828\n",
      "LinearRegression test score: 0.827\n",
      "{'preprocessor__feature_engineering__location__mode': 'all'}\n",
      "<catboost.core.CatBoostRegressor object at 0x7f0a4c6d6f90>\n",
      "CatBoostRegressor train score: 0.867\n",
      "CatBoostRegressor test score: 0.857\n",
      "{'preprocessor__feature_engineering__location__mode': 'all'}\n"
     ]
    }
   ],
   "source": [
    "from sklearn.model_selection import GridSearchCV\n",
    "\n",
    "regressors_grid = [\n",
    "    xgb.XGBRegressor(objective=\"reg:squarederror\", random_state=42, tree_method='gpu_hist', gpu_id=0),\n",
    "    LinearRegression(),\n",
    "    CatBoostRegressor(task_type=\"GPU\", devices='0:1', verbose=0)\n",
    "    ]\n",
    "\n",
    "fitted_regressors_grid = []\n",
    "scores_grid = dict()\n",
    "\n",
    "for regressor in regressors_grid:\n",
    "    pipe = Pipeline(steps=[('preprocessor', preprocess_pipeline),\n",
    "                      ('regressor', regressor)])\n",
    "    \n",
    "    param_grid = {'preprocessor__feature_engineering__location__mode': ['ovo', 'cat', 'all']}\n",
    "    grid_search = GridSearchCV(pipe, param_grid=param_grid)\n",
    "    \n",
    "    grid_search.fit(X_train, y_train)\n",
    "    print(regressor)\n",
    "    fitted_regressors_grid.append(regressor)\n",
    "    train_score = grid_search.score(X_train, y_train)\n",
    "    test_score = grid_search.score(X_test, y_test)\n",
    "    scores_grid[type(regressor).__name__] = {'train': train_score, 'test': test_score}\n",
    "    print(f\"{type(regressor).__name__} train score: %.3f\" % train_score)\n",
    "    print(f\"{type(regressor).__name__} test score: %.3f\" % test_score)\n",
    "    print(grid_search.best_params_)"
   ]
  },
  {
   "cell_type": "markdown",
   "metadata": {},
   "source": [
    "#  4. Conclusions"
   ]
  },
  {
   "cell_type": "markdown",
   "metadata": {},
   "source": [
    "So, we've found that the XGBoost outperformed the other regressors, and the 'ovo' mode (one-versus-one) got the best score.  \n",
    "We can dive into the model's parameters, but the main idea of GridScearch conveyed."
   ]
  },
  {
   "cell_type": "markdown",
   "metadata": {},
   "source": [
    "# 5. Summary"
   ]
  },
  {
   "cell_type": "markdown",
   "metadata": {},
   "source": [
    "In this notebook we passed through several steps:\n",
    "1. EDA - We explored the given data, tried to find interesting patterns\n",
    "2. Feature Engineering - We create new features from the given data and make some viz\n",
    "3. Models Comparison - We've built a pipeline which reproduces the feature engineering process, runs different models on the data and compares between them"
   ]
  }
 ],
 "metadata": {
  "kernelspec": {
   "display_name": "Python 3",
   "language": "python",
   "name": "python3"
  },
  "language_info": {
   "codemirror_mode": {
    "name": "ipython",
    "version": 3
   },
   "file_extension": ".py",
   "mimetype": "text/x-python",
   "name": "python",
   "nbconvert_exporter": "python",
   "pygments_lexer": "ipython3",
   "version": "3.7.6"
  }
 },
 "nbformat": 4,
 "nbformat_minor": 4
}
